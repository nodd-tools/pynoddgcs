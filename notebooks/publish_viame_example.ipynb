{
 "cells": [
  {
   "cell_type": "code",
   "execution_count": 1,
   "id": "7447b108-292a-4287-bed4-5a80d4be54a2",
   "metadata": {},
   "outputs": [],
   "source": [
    "from viame2coco.viame2coco import viame2coco\n",
    "import tempfile\n",
    "import os\n",
    "import sys\n",
    "import json\n",
    "import requests\n",
    "import pycocotools\n",
    "import pycocowriter.coco2yolo\n",
    "import shutil\n",
    "sys.path.append(\"..\")\n",
    "from pynoddgcs.publish import NODDCOCODataset"
   ]
  },
  {
   "cell_type": "markdown",
   "id": "af8d780d-413d-4610-85f7-3b7e982a97f6",
   "metadata": {},
   "source": [
    "# Publishing Pathway"
   ]
  },
  {
   "cell_type": "code",
   "execution_count": 2,
   "id": "4e66f796-0ded-4873-89fa-c514d67e7a57",
   "metadata": {},
   "outputs": [],
   "source": [
    "DATA = '../data'\n",
    "VIDEO = os.path.join(DATA, 'viame_video_sample_2025_01_13.mp4')\n",
    "CSV = os.path.join(DATA, 'viame_video_output_2025_01_13.csv')\n",
    "EXTRACT_PATH = os.path.join(DATA, 'annotations')\n",
    "COCO_FILE = 'annotations.json' #currently, needs to be in current working directory\n",
    "os.makedirs(EXTRACT_PATH, exist_ok=True)"
   ]
  },
  {
   "cell_type": "markdown",
   "id": "31b26a95-cc1b-41df-81b8-70f1d149424f",
   "metadata": {},
   "source": [
    "## Conversion from VIAME Video to COCO"
   ]
  },
  {
   "cell_type": "code",
   "execution_count": 3,
   "id": "2eb39b8b-21a9-4048-b170-d80e66cc51d6",
   "metadata": {},
   "outputs": [],
   "source": [
    "DESCRIPTION = 'example VIAME annotations'"
   ]
  },
  {
   "cell_type": "code",
   "execution_count": 4,
   "id": "022994ed-a3a1-4d96-88a2-b15c5222a0c1",
   "metadata": {
    "scrolled": true
   },
   "outputs": [
    {
     "name": "stdout",
     "output_type": "stream",
     "text": [
      "{\n",
      "  \"info\": {\n",
      "    \"year\": 2025,\n",
      "    \"version\": \"0.1\",\n",
      "    \"description\": \"example VIAME annotations\",\n",
      "    \"date_created\": \"2025-01-28T16:53:58.002041+00:00\"\n",
      "  },\n",
      "  \"images\": [\n",
      "    {\n",
      "      \"id\": 1,\n",
      "      \"file_name\": \"../data/annotations/viame_video_sample_2025_01_13.mp4.00.00.00.800000.jpg\",\n",
      "      \"width\": 1920,\n",
      "      \"height\": 1080\n",
      "    },\n",
      "    {\n",
      "      \"id\": 2,\n",
      "      \"file_name\": \"../data/annotations/viame_video_sample_2025_01_13.mp4.00.00.01.000000.jpg\",\n",
      "      \"width\": 1920,\n",
      "      \"height\": 1080\n",
      "    },\n",
      "    {\n",
      "      \"id\": 3,\n",
      "      \"file_name\": \"../data/annotations/viame_video_sample_2025_01_13.mp4.00.00.01.200000.jpg\",\n",
      "      \"width\": 1920,\n",
      "      \"height\": 1080\n",
      "    },\n",
      "    {\n",
      "      \"id\": 4,\n",
      "      \"file_name\": \"../data/annotations/viame_video_sample_2025_01_13.mp4.00.00.01.400000.jpg\",\n",
      "      \"width\": 1920,\n",
      "      \"height\": 1080\n",
      "    },\n",
      "    {\n",
      "      \"id\": 5,\n",
      "      \"file_name\": \"../data/annotations/viame_video_sample_2025_01_13.mp4.00.00.01.600000.jpg\",\n",
      "      \"width\": 1920,\n",
      "      \"height\": 1080\n",
      "    },\n",
      "    {\n",
      "      \"id\": 6,\n",
      "      \"file_name\": \"../data/annotations/viame_video_sample_2025_01_13.mp4.00.00.01.800000.jpg\",\n",
      "      \"width\": 1920,\n",
      "      \"height\": 1080\n",
      "    },\n",
      "    {\n",
      "      \"id\": 7,\n",
      "      \"file_name\": \"../data/annotations/viame_video_sample_2025_01_13.mp4.00.00.02.000000.jpg\",\n",
      "      \"width\": 1920,\n",
      "      \"height\": 1080\n",
      "    },\n",
      "    {\n",
      "      \"id\": 8,\n",
      "      \"file_name\": \"../data/annotations/viame_video_sample_2025_01_13.mp4.00.00.02.200000.jpg\",\n",
      "      \"width\": 1920,\n",
      "      \"height\": 1080\n",
      "    },\n",
      "    {\n",
      "      \"id\": 9,\n",
      "      \"file_name\": \"../data/annotations/viame_video_sample_2025_01_13.mp4.00.00.02.400000.jpg\",\n",
      "      \"width\": 1920,\n",
      "      \"height\": 1080\n",
      "    },\n",
      "    {\n",
      "      \"id\": 10,\n",
      "      \"file_name\": \"../data/annotations/viame_video_sample_2025_01_13.mp4.00.00.02.600000.jpg\",\n",
      "      \"width\": 1920,\n",
      "      \"height\": 1080\n",
      "    },\n",
      "    {\n",
      "      \"id\": 11,\n",
      "      \"file_name\": \"../data/annotations/viame_video_sample_2025_01_13.mp4.00.00.02.800000.jpg\",\n",
      "      \"width\": 1920,\n",
      "      \"height\": 1080\n",
      "    },\n",
      "    {\n",
      "      \"id\": 12,\n",
      "      \"file_name\": \"../data/annotations/viame_video_sample_2025_01_13.mp4.00.00.03.000000.jpg\",\n",
      "      \"width\": 1920,\n",
      "      \"height\": 1080\n",
      "    },\n",
      "    {\n",
      "      \"id\": 13,\n",
      "      \"file_name\": \"../data/annotations/viame_video_sample_2025_01_13.mp4.00.00.03.200000.jpg\",\n",
      "      \"width\": 1920,\n",
      "      \"height\": 1080\n",
      "    },\n",
      "    {\n",
      "      \"id\": 14,\n",
      "      \"file_name\": \"../data/annotations/viame_video_sample_2025_01_13.mp4.00.00.03.400000.jpg\",\n",
      "      \"width\": 1920,\n",
      "      \"height\": 1080\n",
      "    },\n",
      "    {\n",
      "      \"id\": 15,\n",
      "      \"file_name\": \"../data/annotations/viame_video_sample_2025_01_13.mp4.00.00.03.600000.jpg\",\n",
      "      \"width\": 1920,\n",
      "      \"height\": 1080\n",
      "    },\n",
      "    {\n",
      "      \"id\": 16,\n",
      "      \"file_name\": \"../data/annotations/viame_video_sample_2025_01_13.mp4.00.00.03.800000.jpg\",\n",
      "      \"width\": 1920,\n",
      "      \"height\": 1080\n",
      "    },\n",
      "    {\n",
      "      \"id\": 17,\n",
      "      \"file_name\": \"../data/annotations/viame_video_sample_2025_01_13.mp4.00.00.04.000000.jpg\",\n",
      "      \"width\": 1920,\n",
      "      \"height\": 1080\n",
      "    },\n",
      "    {\n",
      "      \"id\": 18,\n",
      "      \"file_name\": \"../data/annotations/viame_video_sample_2025_01_13.mp4.00.00.04.200000.jpg\",\n",
      "      \"width\": 1920,\n",
      "      \"height\": 1080\n",
      "    },\n",
      "    {\n",
      "      \"id\": 19,\n",
      "      \"file_name\": \"../data/annotations/viame_video_sample_2025_01_13.mp4.00.00.04.400000.jpg\",\n",
      "      \"width\": 1920,\n",
      "      \"height\": 1080\n",
      "    },\n",
      "    {\n",
      "      \"id\": 20,\n",
      "      \"file_name\": \"../data/annotations/viame_video_sample_2025_01_13.mp4.00.00.04.600000.jpg\",\n",
      "      \"width\": 1920,\n",
      "      \"height\": 1080\n",
      "    },\n",
      "    {\n",
      "      \"id\": 21,\n",
      "      \"file_name\": \"../data/annotations/viame_video_sample_2025_01_13.mp4.00.00.04.800000.jpg\",\n",
      "      \"width\": 1920,\n",
      "      \"height\": 1080\n",
      "    },\n",
      "    {\n",
      "      \"id\": 22,\n",
      "      \"file_name\": \"../data/annotations/viame_video_sample_2025_01_13.mp4.00.00.05.000000.jpg\",\n",
      "      \"width\": 1920,\n",
      "      \"height\": 1080\n",
      "    },\n",
      "    {\n",
      "      \"id\": 23,\n",
      "      \"file_name\": \"../data/annotations/viame_video_sample_2025_01_13.mp4.00.00.05.200000.jpg\",\n",
      "      \"width\": 1920,\n",
      "      \"height\": 1080\n",
      "    },\n",
      "    {\n",
      "      \"id\": 24,\n",
      "      \"file_name\": \"../data/annotations/viame_video_sample_2025_01_13.mp4.00.00.05.400000.jpg\",\n",
      "      \"width\": 1920,\n",
      "      \"height\": 1080\n",
      "    },\n",
      "    {\n",
      "      \"id\": 25,\n",
      "      \"file_name\": \"../data/annotations/viame_video_sample_2025_01_13.mp4.00.00.05.600000.jpg\",\n",
      "      \"width\": 1920,\n",
      "      \"height\": 1080\n",
      "    },\n",
      "    {\n",
      "      \"id\": 26,\n",
      "      \"file_name\": \"../data/annotations/viame_video_sample_2025_01_13.mp4.00.00.05.800000.jpg\",\n",
      "      \"width\": 1920,\n",
      "      \"height\": 1080\n",
      "    },\n",
      "    {\n",
      "      \"id\": 27,\n",
      "      \"file_name\": \"../data/annotations/viame_video_sample_2025_01_13.mp4.00.00.06.000000.jpg\",\n",
      "      \"width\": 1920,\n",
      "      \"height\": 1080\n",
      "    },\n",
      "    {\n",
      "      \"id\": 28,\n",
      "      \"file_name\": \"../data/annotations/viame_video_sample_2025_01_13.mp4.00.00.06.200000.jpg\",\n",
      "      \"width\": 1920,\n",
      "      \"height\": 1080\n",
      "    },\n",
      "    {\n",
      "      \"id\": 29,\n",
      "      \"file_name\": \"../data/annotations/viame_video_sample_2025_01_13.mp4.00.00.06.400000.jpg\",\n",
      "      \"width\": 1920,\n",
      "      \"height\": 1080\n",
      "    },\n",
      "    {\n",
      "      \"id\": 30,\n",
      "      \"file_name\": \"../data/annotations/viame_video_sample_2025_01_13.mp4.00.00.06.600000.jpg\",\n",
      "      \"width\": 1920,\n",
      "      \"height\": 1080\n",
      "    },\n",
      "    {\n",
      "      \"id\": 31,\n",
      "      \"file_name\": \"../data/annotations/viame_video_sample_2025_01_13.mp4.00.00.06.800000.jpg\",\n",
      "      \"width\": 1920,\n",
      "      \"height\": 1080\n",
      "    },\n",
      "    {\n",
      "      \"id\": 32,\n",
      "      \"file_name\": \"../data/annotations/viame_video_sample_2025_01_13.mp4.00.00.07.000000.jpg\",\n",
      "      \"width\": 1920,\n",
      "      \"height\": 1080\n",
      "    },\n",
      "    {\n",
      "      \"id\": 33,\n",
      "      \"file_name\": \"../data/annotations/viame_video_sample_2025_01_13.mp4.00.00.07.200000.jpg\",\n",
      "      \"width\": 1920,\n",
      "      \"height\": 1080\n",
      "    },\n",
      "    {\n",
      "      \"id\": 34,\n",
      "      \"file_name\": \"../data/annotations/viame_video_sample_2025_01_13.mp4.00.00.07.400000.jpg\",\n",
      "      \"width\": 1920,\n",
      "      \"height\": 1080\n",
      "    },\n",
      "    {\n",
      "      \"id\": 35,\n",
      "      \"file_name\": \"../data/annotations/viame_video_sample_2025_01_13.mp4.00.00.07.600000.jpg\",\n",
      "      \"width\": 1920,\n",
      "      \"height\": 1080\n",
      "    },\n",
      "    {\n",
      "      \"id\": 36,\n",
      "      \"file_name\": \"../data/annotations/viame_video_sample_2025_01_13.mp4.00.00.07.800000.jpg\",\n",
      "      \"width\": 1920,\n",
      "      \"height\": 1080\n",
      "    },\n",
      "    {\n",
      "      \"id\": 37,\n",
      "      \"file_name\": \"../data/annotations/viame_video_sample_2025_01_13.mp4.00.00.08.000000.jpg\",\n",
      "      \"width\": 1920,\n",
      "      \"height\": 1080\n",
      "    },\n",
      "    {\n",
      "      \"id\": 38,\n",
      "      \"file_name\": \"../data/annotations/viame_video_sample_2025_01_13.mp4.00.00.08.200000.jpg\",\n",
      "      \"width\": 1920,\n",
      "      \"height\": 1080\n",
      "    },\n",
      "    {\n",
      "      \"id\": 39,\n",
      "      \"file_name\": \"../data/annotations/viame_video_sample_2025_01_13.mp4.00.00.08.400000.jpg\",\n",
      "      \"width\": 1920,\n",
      "      \"height\": 1080\n",
      "    },\n",
      "    {\n",
      "      \"id\": 40,\n",
      "      \"file_name\": \"../data/annotations/viame_video_sample_2025_01_13.mp4.00.00.08.600000.jpg\",\n",
      "      \"width\": 1920,\n",
      "      \"height\": 1080\n",
      "    },\n",
      "    {\n",
      "      \"id\": 41,\n",
      "      \"file_name\": \"../data/annotations/viame_video_sample_2025_01_13.mp4.00.00.08.800000.jpg\",\n",
      "      \"width\": 1920,\n",
      "      \"height\": 1080\n",
      "    },\n",
      "    {\n",
      "      \"id\": 42,\n",
      "      \"file_name\": \"../data/annotations/viame_video_sample_2025_01_13.mp4.00.00.09.000000.jpg\",\n",
      "      \"width\": 1920,\n",
      "      \"height\": 1080\n",
      "    },\n",
      "    {\n",
      "      \"id\": 43,\n",
      "      \"file_name\": \"../data/annotations/viame_video_sample_2025_01_13.mp4.00.00.09.200000.jpg\",\n",
      "      \"width\": 1920,\n",
      "      \"height\": 1080\n",
      "    }\n",
      "  ],\n",
      "  \"annotations\": [\n",
      "    {\n",
      "      \"image_id\": 1,\n",
      "      \"id\": 0,\n",
      "      \"category_id\": 1,\n",
      "      \"bbox\": [\n",
      "        4,\n",
      "        1627,\n",
      "        442,\n",
      "        197\n",
      "      ],\n",
      "      \"area\": 87074,\n",
      "      \"iscrowd\": 0\n",
      "    },\n",
      "    {\n",
      "      \"image_id\": 2,\n",
      "      \"id\": 1,\n",
      "      \"category_id\": 1,\n",
      "      \"bbox\": [\n",
      "        5,\n",
      "        1565,\n",
      "        435,\n",
      "        257\n",
      "      ],\n",
      "      \"area\": 111795,\n",
      "      \"iscrowd\": 0\n",
      "    },\n",
      "    {\n",
      "      \"image_id\": 3,\n",
      "      \"id\": 2,\n",
      "      \"category_id\": 1,\n",
      "      \"bbox\": [\n",
      "        6,\n",
      "        1501,\n",
      "        433,\n",
      "        324\n",
      "      ],\n",
      "      \"area\": 140292,\n",
      "      \"iscrowd\": 0\n",
      "    },\n",
      "    {\n",
      "      \"image_id\": 4,\n",
      "      \"id\": 3,\n",
      "      \"category_id\": 1,\n",
      "      \"bbox\": [\n",
      "        7,\n",
      "        1456,\n",
      "        431,\n",
      "        330\n",
      "      ],\n",
      "      \"area\": 142230,\n",
      "      \"iscrowd\": 0\n",
      "    },\n",
      "    {\n",
      "      \"image_id\": 5,\n",
      "      \"id\": 4,\n",
      "      \"category_id\": 1,\n",
      "      \"bbox\": [\n",
      "        8,\n",
      "        1455,\n",
      "        433,\n",
      "        267\n",
      "      ],\n",
      "      \"area\": 115611,\n",
      "      \"iscrowd\": 0\n",
      "    },\n",
      "    {\n",
      "      \"image_id\": 6,\n",
      "      \"id\": 5,\n",
      "      \"category_id\": 1,\n",
      "      \"bbox\": [\n",
      "        9,\n",
      "        1451,\n",
      "        430,\n",
      "        209\n",
      "      ],\n",
      "      \"area\": 89870,\n",
      "      \"iscrowd\": 0\n",
      "    },\n",
      "    {\n",
      "      \"image_id\": 7,\n",
      "      \"id\": 6,\n",
      "      \"category_id\": 1,\n",
      "      \"bbox\": [\n",
      "        10,\n",
      "        1282,\n",
      "        429,\n",
      "        312\n",
      "      ],\n",
      "      \"area\": 133848,\n",
      "      \"iscrowd\": 0\n",
      "    },\n",
      "    {\n",
      "      \"image_id\": 8,\n",
      "      \"id\": 7,\n",
      "      \"category_id\": 1,\n",
      "      \"bbox\": [\n",
      "        11,\n",
      "        1244,\n",
      "        417,\n",
      "        324\n",
      "      ],\n",
      "      \"area\": 135108,\n",
      "      \"iscrowd\": 0\n",
      "    },\n",
      "    {\n",
      "      \"image_id\": 9,\n",
      "      \"id\": 8,\n",
      "      \"category_id\": 1,\n",
      "      \"bbox\": [\n",
      "        12,\n",
      "        1217,\n",
      "        407,\n",
      "        305\n",
      "      ],\n",
      "      \"area\": 124135,\n",
      "      \"iscrowd\": 0\n",
      "    },\n",
      "    {\n",
      "      \"image_id\": 10,\n",
      "      \"id\": 9,\n",
      "      \"category_id\": 1,\n",
      "      \"bbox\": [\n",
      "        13,\n",
      "        1176,\n",
      "        412,\n",
      "        178\n",
      "      ],\n",
      "      \"area\": 73336,\n",
      "      \"iscrowd\": 0\n",
      "    },\n",
      "    {\n",
      "      \"image_id\": 11,\n",
      "      \"id\": 10,\n",
      "      \"category_id\": 1,\n",
      "      \"bbox\": [\n",
      "        14,\n",
      "        1137,\n",
      "        403,\n",
      "        217\n",
      "      ],\n",
      "      \"area\": 87451,\n",
      "      \"iscrowd\": 0\n",
      "    },\n",
      "    {\n",
      "      \"image_id\": 12,\n",
      "      \"id\": 11,\n",
      "      \"category_id\": 1,\n",
      "      \"bbox\": [\n",
      "        15,\n",
      "        1103,\n",
      "        386,\n",
      "        251\n",
      "      ],\n",
      "      \"area\": 96886,\n",
      "      \"iscrowd\": 0\n",
      "    },\n",
      "    {\n",
      "      \"image_id\": 13,\n",
      "      \"id\": 12,\n",
      "      \"category_id\": 1,\n",
      "      \"bbox\": [\n",
      "        16,\n",
      "        1055,\n",
      "        370,\n",
      "        290\n",
      "      ],\n",
      "      \"area\": 107300,\n",
      "      \"iscrowd\": 0\n",
      "    },\n",
      "    {\n",
      "      \"image_id\": 14,\n",
      "      \"id\": 13,\n",
      "      \"category_id\": 1,\n",
      "      \"bbox\": [\n",
      "        17,\n",
      "        1034,\n",
      "        357,\n",
      "        310\n",
      "      ],\n",
      "      \"area\": 110670,\n",
      "      \"iscrowd\": 0\n",
      "    },\n",
      "    {\n",
      "      \"image_id\": 15,\n",
      "      \"id\": 14,\n",
      "      \"category_id\": 1,\n",
      "      \"bbox\": [\n",
      "        18,\n",
      "        971,\n",
      "        344,\n",
      "        355\n",
      "      ],\n",
      "      \"area\": 122120,\n",
      "      \"iscrowd\": 0\n",
      "    },\n",
      "    {\n",
      "      \"image_id\": 16,\n",
      "      \"id\": 15,\n",
      "      \"category_id\": 1,\n",
      "      \"bbox\": [\n",
      "        19,\n",
      "        926,\n",
      "        331,\n",
      "        350\n",
      "      ],\n",
      "      \"area\": 115850,\n",
      "      \"iscrowd\": 0\n",
      "    },\n",
      "    {\n",
      "      \"image_id\": 17,\n",
      "      \"id\": 16,\n",
      "      \"category_id\": 1,\n",
      "      \"bbox\": [\n",
      "        20,\n",
      "        892,\n",
      "        311,\n",
      "        366\n",
      "      ],\n",
      "      \"area\": 113826,\n",
      "      \"iscrowd\": 0\n",
      "    },\n",
      "    {\n",
      "      \"image_id\": 18,\n",
      "      \"id\": 17,\n",
      "      \"category_id\": 1,\n",
      "      \"bbox\": [\n",
      "        21,\n",
      "        863,\n",
      "        291,\n",
      "        355\n",
      "      ],\n",
      "      \"area\": 103305,\n",
      "      \"iscrowd\": 0\n",
      "    },\n",
      "    {\n",
      "      \"image_id\": 19,\n",
      "      \"id\": 18,\n",
      "      \"category_id\": 1,\n",
      "      \"bbox\": [\n",
      "        22,\n",
      "        824,\n",
      "        271,\n",
      "        344\n",
      "      ],\n",
      "      \"area\": 93224,\n",
      "      \"iscrowd\": 0\n",
      "    },\n",
      "    {\n",
      "      \"image_id\": 20,\n",
      "      \"id\": 19,\n",
      "      \"category_id\": 1,\n",
      "      \"bbox\": [\n",
      "        23,\n",
      "        800,\n",
      "        253,\n",
      "        361\n",
      "      ],\n",
      "      \"area\": 91333,\n",
      "      \"iscrowd\": 0\n",
      "    },\n",
      "    {\n",
      "      \"image_id\": 21,\n",
      "      \"id\": 20,\n",
      "      \"category_id\": 1,\n",
      "      \"bbox\": [\n",
      "        24,\n",
      "        763,\n",
      "        230,\n",
      "        382\n",
      "      ],\n",
      "      \"area\": 87860,\n",
      "      \"iscrowd\": 0\n",
      "    },\n",
      "    {\n",
      "      \"image_id\": 22,\n",
      "      \"id\": 21,\n",
      "      \"category_id\": 1,\n",
      "      \"bbox\": [\n",
      "        25,\n",
      "        727,\n",
      "        205,\n",
      "        372\n",
      "      ],\n",
      "      \"area\": 76260,\n",
      "      \"iscrowd\": 0\n",
      "    },\n",
      "    {\n",
      "      \"image_id\": 23,\n",
      "      \"id\": 22,\n",
      "      \"category_id\": 1,\n",
      "      \"bbox\": [\n",
      "        26,\n",
      "        701,\n",
      "        185,\n",
      "        398\n",
      "      ],\n",
      "      \"area\": 73630,\n",
      "      \"iscrowd\": 0\n",
      "    },\n",
      "    {\n",
      "      \"image_id\": 24,\n",
      "      \"id\": 23,\n",
      "      \"category_id\": 1,\n",
      "      \"bbox\": [\n",
      "        27,\n",
      "        674,\n",
      "        172,\n",
      "        396\n",
      "      ],\n",
      "      \"area\": 68112,\n",
      "      \"iscrowd\": 0\n",
      "    },\n",
      "    {\n",
      "      \"image_id\": 25,\n",
      "      \"id\": 24,\n",
      "      \"category_id\": 1,\n",
      "      \"bbox\": [\n",
      "        28,\n",
      "        670,\n",
      "        171,\n",
      "        343\n",
      "      ],\n",
      "      \"area\": 58653,\n",
      "      \"iscrowd\": 0\n",
      "    },\n",
      "    {\n",
      "      \"image_id\": 26,\n",
      "      \"id\": 25,\n",
      "      \"category_id\": 1,\n",
      "      \"bbox\": [\n",
      "        29,\n",
      "        588,\n",
      "        163,\n",
      "        442\n",
      "      ],\n",
      "      \"area\": 72046,\n",
      "      \"iscrowd\": 0\n",
      "    },\n",
      "    {\n",
      "      \"image_id\": 27,\n",
      "      \"id\": 26,\n",
      "      \"category_id\": 1,\n",
      "      \"bbox\": [\n",
      "        30,\n",
      "        566,\n",
      "        136,\n",
      "        442\n",
      "      ],\n",
      "      \"area\": 60112,\n",
      "      \"iscrowd\": 0\n",
      "    },\n",
      "    {\n",
      "      \"image_id\": 28,\n",
      "      \"id\": 27,\n",
      "      \"category_id\": 1,\n",
      "      \"bbox\": [\n",
      "        31,\n",
      "        540,\n",
      "        106,\n",
      "        422\n",
      "      ],\n",
      "      \"area\": 44732,\n",
      "      \"iscrowd\": 0\n",
      "    },\n",
      "    {\n",
      "      \"image_id\": 29,\n",
      "      \"id\": 28,\n",
      "      \"category_id\": 1,\n",
      "      \"bbox\": [\n",
      "        32,\n",
      "        497,\n",
      "        78,\n",
      "        468\n",
      "      ],\n",
      "      \"area\": 36504,\n",
      "      \"iscrowd\": 0\n",
      "    },\n",
      "    {\n",
      "      \"image_id\": 30,\n",
      "      \"id\": 29,\n",
      "      \"category_id\": 1,\n",
      "      \"bbox\": [\n",
      "        33,\n",
      "        439,\n",
      "        56,\n",
      "        463\n",
      "      ],\n",
      "      \"area\": 25928,\n",
      "      \"iscrowd\": 0\n",
      "    },\n",
      "    {\n",
      "      \"image_id\": 31,\n",
      "      \"id\": 30,\n",
      "      \"category_id\": 1,\n",
      "      \"bbox\": [\n",
      "        34,\n",
      "        386,\n",
      "        36,\n",
      "        483\n",
      "      ],\n",
      "      \"area\": 17388,\n",
      "      \"iscrowd\": 0\n",
      "    },\n",
      "    {\n",
      "      \"image_id\": 32,\n",
      "      \"id\": 31,\n",
      "      \"category_id\": 1,\n",
      "      \"bbox\": [\n",
      "        35,\n",
      "        324,\n",
      "        11,\n",
      "        540\n",
      "      ],\n",
      "      \"area\": 5940,\n",
      "      \"iscrowd\": 0\n",
      "    },\n",
      "    {\n",
      "      \"image_id\": 33,\n",
      "      \"id\": 32,\n",
      "      \"category_id\": 1,\n",
      "      \"bbox\": [\n",
      "        36,\n",
      "        266,\n",
      "        -5,\n",
      "        524\n",
      "      ],\n",
      "      \"area\": -2620,\n",
      "      \"iscrowd\": 0\n",
      "    },\n",
      "    {\n",
      "      \"image_id\": 34,\n",
      "      \"id\": 33,\n",
      "      \"category_id\": 1,\n",
      "      \"bbox\": [\n",
      "        37,\n",
      "        221,\n",
      "        -27,\n",
      "        554\n",
      "      ],\n",
      "      \"area\": -14958,\n",
      "      \"iscrowd\": 0\n",
      "    },\n",
      "    {\n",
      "      \"image_id\": 35,\n",
      "      \"id\": 34,\n",
      "      \"category_id\": 1,\n",
      "      \"bbox\": [\n",
      "        38,\n",
      "        127,\n",
      "        -38,\n",
      "        571\n",
      "      ],\n",
      "      \"area\": -21698,\n",
      "      \"iscrowd\": 0\n",
      "    },\n",
      "    {\n",
      "      \"image_id\": 36,\n",
      "      \"id\": 35,\n",
      "      \"category_id\": 1,\n",
      "      \"bbox\": [\n",
      "        39,\n",
      "        94,\n",
      "        -44,\n",
      "        556\n",
      "      ],\n",
      "      \"area\": -24464,\n",
      "      \"iscrowd\": 0\n",
      "    },\n",
      "    {\n",
      "      \"image_id\": 37,\n",
      "      \"id\": 36,\n",
      "      \"category_id\": 1,\n",
      "      \"bbox\": [\n",
      "        40,\n",
      "        94,\n",
      "        -40,\n",
      "        528\n",
      "      ],\n",
      "      \"area\": -21120,\n",
      "      \"iscrowd\": 0\n",
      "    },\n",
      "    {\n",
      "      \"image_id\": 38,\n",
      "      \"id\": 37,\n",
      "      \"category_id\": 1,\n",
      "      \"bbox\": [\n",
      "        41,\n",
      "        94,\n",
      "        -39,\n",
      "        463\n",
      "      ],\n",
      "      \"area\": -18057,\n",
      "      \"iscrowd\": 0\n",
      "    },\n",
      "    {\n",
      "      \"image_id\": 39,\n",
      "      \"id\": 38,\n",
      "      \"category_id\": 1,\n",
      "      \"bbox\": [\n",
      "        42,\n",
      "        89,\n",
      "        -47,\n",
      "        408\n",
      "      ],\n",
      "      \"area\": -19176,\n",
      "      \"iscrowd\": 0\n",
      "    },\n",
      "    {\n",
      "      \"image_id\": 40,\n",
      "      \"id\": 39,\n",
      "      \"category_id\": 1,\n",
      "      \"bbox\": [\n",
      "        43,\n",
      "        89,\n",
      "        -48,\n",
      "        341\n",
      "      ],\n",
      "      \"area\": -16368,\n",
      "      \"iscrowd\": 0\n",
      "    },\n",
      "    {\n",
      "      \"image_id\": 41,\n",
      "      \"id\": 40,\n",
      "      \"category_id\": 1,\n",
      "      \"bbox\": [\n",
      "        44,\n",
      "        99,\n",
      "        -31,\n",
      "        272\n",
      "      ],\n",
      "      \"area\": -8432,\n",
      "      \"iscrowd\": 0\n",
      "    },\n",
      "    {\n",
      "      \"image_id\": 42,\n",
      "      \"id\": 41,\n",
      "      \"category_id\": 1,\n",
      "      \"bbox\": [\n",
      "        45,\n",
      "        97,\n",
      "        -34,\n",
      "        232\n",
      "      ],\n",
      "      \"area\": -7888,\n",
      "      \"iscrowd\": 0\n",
      "    },\n",
      "    {\n",
      "      \"image_id\": 43,\n",
      "      \"id\": 42,\n",
      "      \"category_id\": 1,\n",
      "      \"bbox\": [\n",
      "        46,\n",
      "        98,\n",
      "        -46,\n",
      "        187\n",
      "      ],\n",
      "      \"area\": -8602,\n",
      "      \"iscrowd\": 0\n",
      "    }\n",
      "  ],\n",
      "  \"licenses\": [\n",
      "    {\n",
      "      \"name\": \"CC0 1.0 Universal\",\n",
      "      \"id\": 0,\n",
      "      \"url\": \"https://creativecommons.org/public-domain/cc0/\"\n",
      "    }\n",
      "  ],\n",
      "  \"categories\": [\n",
      "    {\n",
      "      \"name\": \"SERIOLAFASCIATA-170113103\",\n",
      "      \"id\": 1\n",
      "    }\n",
      "  ]\n",
      "}\n"
     ]
    }
   ],
   "source": [
    "cocodata = viame2coco(\n",
    "    CSV,\n",
    "    DESCRIPTION,\n",
    "    video_file = VIDEO,\n",
    "    video_frame_outfile_dir = EXTRACT_PATH\n",
    ")\n",
    "cocodata.to_json(COCO_FILE)\n",
    "print(json.dumps(cocodata.to_dict(), indent=2))"
   ]
  },
  {
   "cell_type": "markdown",
   "id": "b509697e-42e5-45bd-a47a-41d4f09dacad",
   "metadata": {},
   "source": [
    "## Publish to NODD"
   ]
  },
  {
   "cell_type": "code",
   "execution_count": 5,
   "id": "8b13a047-4f43-40ba-bea2-51adc828ec4a",
   "metadata": {
    "scrolled": true
   },
   "outputs": [
    {
     "name": "stdout",
     "output_type": "stream",
     "text": [
      "loading annotations into memory...\n",
      "Done (t=0.00s)\n",
      "creating index...\n",
      "index created!\n",
      "uploading images\n",
      "../data/annotations/viame_video_sample_2025_01_13.mp4.00.00.00.800000.jpg\n"
     ]
    },
    {
     "name": "stderr",
     "output_type": "stream",
     "text": [
      "/home/scott/NOAA/research/nodd-tools/pynoddgcs/.venv/lib/python3.11/site-packages/google/auth/_default.py:76: UserWarning: Your application has authenticated using end user credentials from Google Cloud SDK without a quota project. You might receive a \"quota exceeded\" or \"API not enabled\" error. See the following page for troubleshooting: https://cloud.google.com/docs/authentication/adc-troubleshooting/user-creds. \n",
      "  warnings.warn(_CLOUD_SDK_CREDENTIALS_WARNING)\n",
      "/home/scott/NOAA/research/nodd-tools/pynoddgcs/.venv/lib/python3.11/site-packages/google/auth/_default.py:76: UserWarning: Your application has authenticated using end user credentials from Google Cloud SDK without a quota project. You might receive a \"quota exceeded\" or \"API not enabled\" error. See the following page for troubleshooting: https://cloud.google.com/docs/authentication/adc-troubleshooting/user-creds. \n",
      "  warnings.warn(_CLOUD_SDK_CREDENTIALS_WARNING)\n"
     ]
    },
    {
     "name": "stdout",
     "output_type": "stream",
     "text": [
      "File ../data/annotations/viame_video_sample_2025_01_13.mp4.00.00.00.800000.jpg uploaded to nodd_tools/datasets/gfisher/example/data/annotations/viame_video_sample_2025_01_13.mp4.00.00.00.800000.jpg.\n",
      "../data/annotations/viame_video_sample_2025_01_13.mp4.00.00.01.000000.jpg\n",
      "File ../data/annotations/viame_video_sample_2025_01_13.mp4.00.00.01.000000.jpg uploaded to nodd_tools/datasets/gfisher/example/data/annotations/viame_video_sample_2025_01_13.mp4.00.00.01.000000.jpg.\n",
      "../data/annotations/viame_video_sample_2025_01_13.mp4.00.00.01.200000.jpg\n",
      "File ../data/annotations/viame_video_sample_2025_01_13.mp4.00.00.01.200000.jpg uploaded to nodd_tools/datasets/gfisher/example/data/annotations/viame_video_sample_2025_01_13.mp4.00.00.01.200000.jpg.\n",
      "../data/annotations/viame_video_sample_2025_01_13.mp4.00.00.01.400000.jpg\n",
      "File ../data/annotations/viame_video_sample_2025_01_13.mp4.00.00.01.400000.jpg uploaded to nodd_tools/datasets/gfisher/example/data/annotations/viame_video_sample_2025_01_13.mp4.00.00.01.400000.jpg.\n",
      "../data/annotations/viame_video_sample_2025_01_13.mp4.00.00.01.600000.jpg\n",
      "File ../data/annotations/viame_video_sample_2025_01_13.mp4.00.00.01.600000.jpg uploaded to nodd_tools/datasets/gfisher/example/data/annotations/viame_video_sample_2025_01_13.mp4.00.00.01.600000.jpg.\n",
      "../data/annotations/viame_video_sample_2025_01_13.mp4.00.00.01.800000.jpg\n",
      "File ../data/annotations/viame_video_sample_2025_01_13.mp4.00.00.01.800000.jpg uploaded to nodd_tools/datasets/gfisher/example/data/annotations/viame_video_sample_2025_01_13.mp4.00.00.01.800000.jpg.\n",
      "../data/annotations/viame_video_sample_2025_01_13.mp4.00.00.02.000000.jpg\n",
      "File ../data/annotations/viame_video_sample_2025_01_13.mp4.00.00.02.000000.jpg uploaded to nodd_tools/datasets/gfisher/example/data/annotations/viame_video_sample_2025_01_13.mp4.00.00.02.000000.jpg.\n",
      "../data/annotations/viame_video_sample_2025_01_13.mp4.00.00.02.200000.jpg\n",
      "File ../data/annotations/viame_video_sample_2025_01_13.mp4.00.00.02.200000.jpg uploaded to nodd_tools/datasets/gfisher/example/data/annotations/viame_video_sample_2025_01_13.mp4.00.00.02.200000.jpg.\n",
      "../data/annotations/viame_video_sample_2025_01_13.mp4.00.00.02.400000.jpg\n",
      "File ../data/annotations/viame_video_sample_2025_01_13.mp4.00.00.02.400000.jpg uploaded to nodd_tools/datasets/gfisher/example/data/annotations/viame_video_sample_2025_01_13.mp4.00.00.02.400000.jpg.\n",
      "../data/annotations/viame_video_sample_2025_01_13.mp4.00.00.02.600000.jpg\n",
      "File ../data/annotations/viame_video_sample_2025_01_13.mp4.00.00.02.600000.jpg uploaded to nodd_tools/datasets/gfisher/example/data/annotations/viame_video_sample_2025_01_13.mp4.00.00.02.600000.jpg.\n",
      "../data/annotations/viame_video_sample_2025_01_13.mp4.00.00.02.800000.jpg\n",
      "File ../data/annotations/viame_video_sample_2025_01_13.mp4.00.00.02.800000.jpg uploaded to nodd_tools/datasets/gfisher/example/data/annotations/viame_video_sample_2025_01_13.mp4.00.00.02.800000.jpg.\n",
      "../data/annotations/viame_video_sample_2025_01_13.mp4.00.00.03.000000.jpg\n",
      "File ../data/annotations/viame_video_sample_2025_01_13.mp4.00.00.03.000000.jpg uploaded to nodd_tools/datasets/gfisher/example/data/annotations/viame_video_sample_2025_01_13.mp4.00.00.03.000000.jpg.\n",
      "../data/annotations/viame_video_sample_2025_01_13.mp4.00.00.03.200000.jpg\n",
      "File ../data/annotations/viame_video_sample_2025_01_13.mp4.00.00.03.200000.jpg uploaded to nodd_tools/datasets/gfisher/example/data/annotations/viame_video_sample_2025_01_13.mp4.00.00.03.200000.jpg.\n",
      "../data/annotations/viame_video_sample_2025_01_13.mp4.00.00.03.400000.jpg\n",
      "File ../data/annotations/viame_video_sample_2025_01_13.mp4.00.00.03.400000.jpg uploaded to nodd_tools/datasets/gfisher/example/data/annotations/viame_video_sample_2025_01_13.mp4.00.00.03.400000.jpg.\n",
      "../data/annotations/viame_video_sample_2025_01_13.mp4.00.00.03.600000.jpg\n",
      "File ../data/annotations/viame_video_sample_2025_01_13.mp4.00.00.03.600000.jpg uploaded to nodd_tools/datasets/gfisher/example/data/annotations/viame_video_sample_2025_01_13.mp4.00.00.03.600000.jpg.\n",
      "../data/annotations/viame_video_sample_2025_01_13.mp4.00.00.03.800000.jpg\n",
      "File ../data/annotations/viame_video_sample_2025_01_13.mp4.00.00.03.800000.jpg uploaded to nodd_tools/datasets/gfisher/example/data/annotations/viame_video_sample_2025_01_13.mp4.00.00.03.800000.jpg.\n",
      "../data/annotations/viame_video_sample_2025_01_13.mp4.00.00.04.000000.jpg\n",
      "File ../data/annotations/viame_video_sample_2025_01_13.mp4.00.00.04.000000.jpg uploaded to nodd_tools/datasets/gfisher/example/data/annotations/viame_video_sample_2025_01_13.mp4.00.00.04.000000.jpg.\n",
      "../data/annotations/viame_video_sample_2025_01_13.mp4.00.00.04.200000.jpg\n",
      "File ../data/annotations/viame_video_sample_2025_01_13.mp4.00.00.04.200000.jpg uploaded to nodd_tools/datasets/gfisher/example/data/annotations/viame_video_sample_2025_01_13.mp4.00.00.04.200000.jpg.\n",
      "../data/annotations/viame_video_sample_2025_01_13.mp4.00.00.04.400000.jpg\n",
      "File ../data/annotations/viame_video_sample_2025_01_13.mp4.00.00.04.400000.jpg uploaded to nodd_tools/datasets/gfisher/example/data/annotations/viame_video_sample_2025_01_13.mp4.00.00.04.400000.jpg.\n",
      "../data/annotations/viame_video_sample_2025_01_13.mp4.00.00.04.600000.jpg\n",
      "File ../data/annotations/viame_video_sample_2025_01_13.mp4.00.00.04.600000.jpg uploaded to nodd_tools/datasets/gfisher/example/data/annotations/viame_video_sample_2025_01_13.mp4.00.00.04.600000.jpg.\n",
      "../data/annotations/viame_video_sample_2025_01_13.mp4.00.00.04.800000.jpg\n",
      "File ../data/annotations/viame_video_sample_2025_01_13.mp4.00.00.04.800000.jpg uploaded to nodd_tools/datasets/gfisher/example/data/annotations/viame_video_sample_2025_01_13.mp4.00.00.04.800000.jpg.\n",
      "../data/annotations/viame_video_sample_2025_01_13.mp4.00.00.05.000000.jpg\n",
      "File ../data/annotations/viame_video_sample_2025_01_13.mp4.00.00.05.000000.jpg uploaded to nodd_tools/datasets/gfisher/example/data/annotations/viame_video_sample_2025_01_13.mp4.00.00.05.000000.jpg.\n",
      "../data/annotations/viame_video_sample_2025_01_13.mp4.00.00.05.200000.jpg\n",
      "File ../data/annotations/viame_video_sample_2025_01_13.mp4.00.00.05.200000.jpg uploaded to nodd_tools/datasets/gfisher/example/data/annotations/viame_video_sample_2025_01_13.mp4.00.00.05.200000.jpg.\n",
      "../data/annotations/viame_video_sample_2025_01_13.mp4.00.00.05.400000.jpg\n",
      "File ../data/annotations/viame_video_sample_2025_01_13.mp4.00.00.05.400000.jpg uploaded to nodd_tools/datasets/gfisher/example/data/annotations/viame_video_sample_2025_01_13.mp4.00.00.05.400000.jpg.\n",
      "../data/annotations/viame_video_sample_2025_01_13.mp4.00.00.05.600000.jpg\n",
      "File ../data/annotations/viame_video_sample_2025_01_13.mp4.00.00.05.600000.jpg uploaded to nodd_tools/datasets/gfisher/example/data/annotations/viame_video_sample_2025_01_13.mp4.00.00.05.600000.jpg.\n",
      "../data/annotations/viame_video_sample_2025_01_13.mp4.00.00.05.800000.jpg\n",
      "File ../data/annotations/viame_video_sample_2025_01_13.mp4.00.00.05.800000.jpg uploaded to nodd_tools/datasets/gfisher/example/data/annotations/viame_video_sample_2025_01_13.mp4.00.00.05.800000.jpg.\n",
      "../data/annotations/viame_video_sample_2025_01_13.mp4.00.00.06.000000.jpg\n",
      "File ../data/annotations/viame_video_sample_2025_01_13.mp4.00.00.06.000000.jpg uploaded to nodd_tools/datasets/gfisher/example/data/annotations/viame_video_sample_2025_01_13.mp4.00.00.06.000000.jpg.\n",
      "../data/annotations/viame_video_sample_2025_01_13.mp4.00.00.06.200000.jpg\n",
      "File ../data/annotations/viame_video_sample_2025_01_13.mp4.00.00.06.200000.jpg uploaded to nodd_tools/datasets/gfisher/example/data/annotations/viame_video_sample_2025_01_13.mp4.00.00.06.200000.jpg.\n",
      "../data/annotations/viame_video_sample_2025_01_13.mp4.00.00.06.400000.jpg\n",
      "File ../data/annotations/viame_video_sample_2025_01_13.mp4.00.00.06.400000.jpg uploaded to nodd_tools/datasets/gfisher/example/data/annotations/viame_video_sample_2025_01_13.mp4.00.00.06.400000.jpg.\n",
      "../data/annotations/viame_video_sample_2025_01_13.mp4.00.00.06.600000.jpg\n",
      "File ../data/annotations/viame_video_sample_2025_01_13.mp4.00.00.06.600000.jpg uploaded to nodd_tools/datasets/gfisher/example/data/annotations/viame_video_sample_2025_01_13.mp4.00.00.06.600000.jpg.\n",
      "../data/annotations/viame_video_sample_2025_01_13.mp4.00.00.06.800000.jpg\n",
      "File ../data/annotations/viame_video_sample_2025_01_13.mp4.00.00.06.800000.jpg uploaded to nodd_tools/datasets/gfisher/example/data/annotations/viame_video_sample_2025_01_13.mp4.00.00.06.800000.jpg.\n",
      "../data/annotations/viame_video_sample_2025_01_13.mp4.00.00.07.000000.jpg\n",
      "File ../data/annotations/viame_video_sample_2025_01_13.mp4.00.00.07.000000.jpg uploaded to nodd_tools/datasets/gfisher/example/data/annotations/viame_video_sample_2025_01_13.mp4.00.00.07.000000.jpg.\n",
      "../data/annotations/viame_video_sample_2025_01_13.mp4.00.00.07.200000.jpg\n",
      "File ../data/annotations/viame_video_sample_2025_01_13.mp4.00.00.07.200000.jpg uploaded to nodd_tools/datasets/gfisher/example/data/annotations/viame_video_sample_2025_01_13.mp4.00.00.07.200000.jpg.\n",
      "../data/annotations/viame_video_sample_2025_01_13.mp4.00.00.07.400000.jpg\n",
      "File ../data/annotations/viame_video_sample_2025_01_13.mp4.00.00.07.400000.jpg uploaded to nodd_tools/datasets/gfisher/example/data/annotations/viame_video_sample_2025_01_13.mp4.00.00.07.400000.jpg.\n",
      "../data/annotations/viame_video_sample_2025_01_13.mp4.00.00.07.600000.jpg\n",
      "File ../data/annotations/viame_video_sample_2025_01_13.mp4.00.00.07.600000.jpg uploaded to nodd_tools/datasets/gfisher/example/data/annotations/viame_video_sample_2025_01_13.mp4.00.00.07.600000.jpg.\n",
      "../data/annotations/viame_video_sample_2025_01_13.mp4.00.00.07.800000.jpg\n",
      "File ../data/annotations/viame_video_sample_2025_01_13.mp4.00.00.07.800000.jpg uploaded to nodd_tools/datasets/gfisher/example/data/annotations/viame_video_sample_2025_01_13.mp4.00.00.07.800000.jpg.\n",
      "../data/annotations/viame_video_sample_2025_01_13.mp4.00.00.08.000000.jpg\n",
      "File ../data/annotations/viame_video_sample_2025_01_13.mp4.00.00.08.000000.jpg uploaded to nodd_tools/datasets/gfisher/example/data/annotations/viame_video_sample_2025_01_13.mp4.00.00.08.000000.jpg.\n",
      "../data/annotations/viame_video_sample_2025_01_13.mp4.00.00.08.200000.jpg\n",
      "File ../data/annotations/viame_video_sample_2025_01_13.mp4.00.00.08.200000.jpg uploaded to nodd_tools/datasets/gfisher/example/data/annotations/viame_video_sample_2025_01_13.mp4.00.00.08.200000.jpg.\n",
      "../data/annotations/viame_video_sample_2025_01_13.mp4.00.00.08.400000.jpg\n",
      "File ../data/annotations/viame_video_sample_2025_01_13.mp4.00.00.08.400000.jpg uploaded to nodd_tools/datasets/gfisher/example/data/annotations/viame_video_sample_2025_01_13.mp4.00.00.08.400000.jpg.\n",
      "../data/annotations/viame_video_sample_2025_01_13.mp4.00.00.08.600000.jpg\n",
      "File ../data/annotations/viame_video_sample_2025_01_13.mp4.00.00.08.600000.jpg uploaded to nodd_tools/datasets/gfisher/example/data/annotations/viame_video_sample_2025_01_13.mp4.00.00.08.600000.jpg.\n",
      "../data/annotations/viame_video_sample_2025_01_13.mp4.00.00.08.800000.jpg\n",
      "File ../data/annotations/viame_video_sample_2025_01_13.mp4.00.00.08.800000.jpg uploaded to nodd_tools/datasets/gfisher/example/data/annotations/viame_video_sample_2025_01_13.mp4.00.00.08.800000.jpg.\n",
      "../data/annotations/viame_video_sample_2025_01_13.mp4.00.00.09.000000.jpg\n",
      "File ../data/annotations/viame_video_sample_2025_01_13.mp4.00.00.09.000000.jpg uploaded to nodd_tools/datasets/gfisher/example/data/annotations/viame_video_sample_2025_01_13.mp4.00.00.09.000000.jpg.\n",
      "../data/annotations/viame_video_sample_2025_01_13.mp4.00.00.09.200000.jpg\n",
      "File ../data/annotations/viame_video_sample_2025_01_13.mp4.00.00.09.200000.jpg uploaded to nodd_tools/datasets/gfisher/example/data/annotations/viame_video_sample_2025_01_13.mp4.00.00.09.200000.jpg.\n",
      "uploading coco file\n",
      "{\"info\": {\"year\": 2025, \"version\": \"0.1\", \"description\": \"example VIAME annotations\", \"date_created\": \"2025-01-28T16:53:58.002041+00:00\"}, \"images\": [{\"id\": 1, \"file_name\": \"data_annotations_viame_video_sample_2025_01_13.mp4.00.00.00.800000.jpg\", \"width\": 1920, \"height\": 1080, \"coco_url\": \"https://storage.googleapis.com/nmfs_odp_pifsc/nodd_tools/datasets/gfisher/example/data/annotations/viame_video_sample_2025_01_13.mp4.00.00.00.800000.jpg\"}, {\"id\": 2, \"file_name\": \"data_annotations_viame_video_sample_2025_01_13.mp4.00.00.01.000000.jpg\", \"width\": 1920, \"height\": 1080, \"coco_url\": \"https://storage.googleapis.com/nmfs_odp_pifsc/nodd_tools/datasets/gfisher/example/data/annotations/viame_video_sample_2025_01_13.mp4.00.00.01.000000.jpg\"}, {\"id\": 3, \"file_name\": \"data_annotations_viame_video_sample_2025_01_13.mp4.00.00.01.200000.jpg\", \"width\": 1920, \"height\": 1080, \"coco_url\": \"https://storage.googleapis.com/nmfs_odp_pifsc/nodd_tools/datasets/gfisher/example/data/annotations/viame_video_sample_2025_01_13.mp4.00.00.01.200000.jpg\"}, {\"id\": 4, \"file_name\": \"data_annotations_viame_video_sample_2025_01_13.mp4.00.00.01.400000.jpg\", \"width\": 1920, \"height\": 1080, \"coco_url\": \"https://storage.googleapis.com/nmfs_odp_pifsc/nodd_tools/datasets/gfisher/example/data/annotations/viame_video_sample_2025_01_13.mp4.00.00.01.400000.jpg\"}, {\"id\": 5, \"file_name\": \"data_annotations_viame_video_sample_2025_01_13.mp4.00.00.01.600000.jpg\", \"width\": 1920, \"height\": 1080, \"coco_url\": \"https://storage.googleapis.com/nmfs_odp_pifsc/nodd_tools/datasets/gfisher/example/data/annotations/viame_video_sample_2025_01_13.mp4.00.00.01.600000.jpg\"}, {\"id\": 6, \"file_name\": \"data_annotations_viame_video_sample_2025_01_13.mp4.00.00.01.800000.jpg\", \"width\": 1920, \"height\": 1080, \"coco_url\": \"https://storage.googleapis.com/nmfs_odp_pifsc/nodd_tools/datasets/gfisher/example/data/annotations/viame_video_sample_2025_01_13.mp4.00.00.01.800000.jpg\"}, {\"id\": 7, \"file_name\": \"data_annotations_viame_video_sample_2025_01_13.mp4.00.00.02.000000.jpg\", \"width\": 1920, \"height\": 1080, \"coco_url\": \"https://storage.googleapis.com/nmfs_odp_pifsc/nodd_tools/datasets/gfisher/example/data/annotations/viame_video_sample_2025_01_13.mp4.00.00.02.000000.jpg\"}, {\"id\": 8, \"file_name\": \"data_annotations_viame_video_sample_2025_01_13.mp4.00.00.02.200000.jpg\", \"width\": 1920, \"height\": 1080, \"coco_url\": \"https://storage.googleapis.com/nmfs_odp_pifsc/nodd_tools/datasets/gfisher/example/data/annotations/viame_video_sample_2025_01_13.mp4.00.00.02.200000.jpg\"}, {\"id\": 9, \"file_name\": \"data_annotations_viame_video_sample_2025_01_13.mp4.00.00.02.400000.jpg\", \"width\": 1920, \"height\": 1080, \"coco_url\": \"https://storage.googleapis.com/nmfs_odp_pifsc/nodd_tools/datasets/gfisher/example/data/annotations/viame_video_sample_2025_01_13.mp4.00.00.02.400000.jpg\"}, {\"id\": 10, \"file_name\": \"data_annotations_viame_video_sample_2025_01_13.mp4.00.00.02.600000.jpg\", \"width\": 1920, \"height\": 1080, \"coco_url\": \"https://storage.googleapis.com/nmfs_odp_pifsc/nodd_tools/datasets/gfisher/example/data/annotations/viame_video_sample_2025_01_13.mp4.00.00.02.600000.jpg\"}, {\"id\": 11, \"file_name\": \"data_annotations_viame_video_sample_2025_01_13.mp4.00.00.02.800000.jpg\", \"width\": 1920, \"height\": 1080, \"coco_url\": \"https://storage.googleapis.com/nmfs_odp_pifsc/nodd_tools/datasets/gfisher/example/data/annotations/viame_video_sample_2025_01_13.mp4.00.00.02.800000.jpg\"}, {\"id\": 12, \"file_name\": \"data_annotations_viame_video_sample_2025_01_13.mp4.00.00.03.000000.jpg\", \"width\": 1920, \"height\": 1080, \"coco_url\": \"https://storage.googleapis.com/nmfs_odp_pifsc/nodd_tools/datasets/gfisher/example/data/annotations/viame_video_sample_2025_01_13.mp4.00.00.03.000000.jpg\"}, {\"id\": 13, \"file_name\": \"data_annotations_viame_video_sample_2025_01_13.mp4.00.00.03.200000.jpg\", \"width\": 1920, \"height\": 1080, \"coco_url\": \"https://storage.googleapis.com/nmfs_odp_pifsc/nodd_tools/datasets/gfisher/example/data/annotations/viame_video_sample_2025_01_13.mp4.00.00.03.200000.jpg\"}, {\"id\": 14, \"file_name\": \"data_annotations_viame_video_sample_2025_01_13.mp4.00.00.03.400000.jpg\", \"width\": 1920, \"height\": 1080, \"coco_url\": \"https://storage.googleapis.com/nmfs_odp_pifsc/nodd_tools/datasets/gfisher/example/data/annotations/viame_video_sample_2025_01_13.mp4.00.00.03.400000.jpg\"}, {\"id\": 15, \"file_name\": \"data_annotations_viame_video_sample_2025_01_13.mp4.00.00.03.600000.jpg\", \"width\": 1920, \"height\": 1080, \"coco_url\": \"https://storage.googleapis.com/nmfs_odp_pifsc/nodd_tools/datasets/gfisher/example/data/annotations/viame_video_sample_2025_01_13.mp4.00.00.03.600000.jpg\"}, {\"id\": 16, \"file_name\": \"data_annotations_viame_video_sample_2025_01_13.mp4.00.00.03.800000.jpg\", \"width\": 1920, \"height\": 1080, \"coco_url\": \"https://storage.googleapis.com/nmfs_odp_pifsc/nodd_tools/datasets/gfisher/example/data/annotations/viame_video_sample_2025_01_13.mp4.00.00.03.800000.jpg\"}, {\"id\": 17, \"file_name\": \"data_annotations_viame_video_sample_2025_01_13.mp4.00.00.04.000000.jpg\", \"width\": 1920, \"height\": 1080, \"coco_url\": \"https://storage.googleapis.com/nmfs_odp_pifsc/nodd_tools/datasets/gfisher/example/data/annotations/viame_video_sample_2025_01_13.mp4.00.00.04.000000.jpg\"}, {\"id\": 18, \"file_name\": \"data_annotations_viame_video_sample_2025_01_13.mp4.00.00.04.200000.jpg\", \"width\": 1920, \"height\": 1080, \"coco_url\": \"https://storage.googleapis.com/nmfs_odp_pifsc/nodd_tools/datasets/gfisher/example/data/annotations/viame_video_sample_2025_01_13.mp4.00.00.04.200000.jpg\"}, {\"id\": 19, \"file_name\": \"data_annotations_viame_video_sample_2025_01_13.mp4.00.00.04.400000.jpg\", \"width\": 1920, \"height\": 1080, \"coco_url\": \"https://storage.googleapis.com/nmfs_odp_pifsc/nodd_tools/datasets/gfisher/example/data/annotations/viame_video_sample_2025_01_13.mp4.00.00.04.400000.jpg\"}, {\"id\": 20, \"file_name\": \"data_annotations_viame_video_sample_2025_01_13.mp4.00.00.04.600000.jpg\", \"width\": 1920, \"height\": 1080, \"coco_url\": \"https://storage.googleapis.com/nmfs_odp_pifsc/nodd_tools/datasets/gfisher/example/data/annotations/viame_video_sample_2025_01_13.mp4.00.00.04.600000.jpg\"}, {\"id\": 21, \"file_name\": \"data_annotations_viame_video_sample_2025_01_13.mp4.00.00.04.800000.jpg\", \"width\": 1920, \"height\": 1080, \"coco_url\": \"https://storage.googleapis.com/nmfs_odp_pifsc/nodd_tools/datasets/gfisher/example/data/annotations/viame_video_sample_2025_01_13.mp4.00.00.04.800000.jpg\"}, {\"id\": 22, \"file_name\": \"data_annotations_viame_video_sample_2025_01_13.mp4.00.00.05.000000.jpg\", \"width\": 1920, \"height\": 1080, \"coco_url\": \"https://storage.googleapis.com/nmfs_odp_pifsc/nodd_tools/datasets/gfisher/example/data/annotations/viame_video_sample_2025_01_13.mp4.00.00.05.000000.jpg\"}, {\"id\": 23, \"file_name\": \"data_annotations_viame_video_sample_2025_01_13.mp4.00.00.05.200000.jpg\", \"width\": 1920, \"height\": 1080, \"coco_url\": \"https://storage.googleapis.com/nmfs_odp_pifsc/nodd_tools/datasets/gfisher/example/data/annotations/viame_video_sample_2025_01_13.mp4.00.00.05.200000.jpg\"}, {\"id\": 24, \"file_name\": \"data_annotations_viame_video_sample_2025_01_13.mp4.00.00.05.400000.jpg\", \"width\": 1920, \"height\": 1080, \"coco_url\": \"https://storage.googleapis.com/nmfs_odp_pifsc/nodd_tools/datasets/gfisher/example/data/annotations/viame_video_sample_2025_01_13.mp4.00.00.05.400000.jpg\"}, {\"id\": 25, \"file_name\": \"data_annotations_viame_video_sample_2025_01_13.mp4.00.00.05.600000.jpg\", \"width\": 1920, \"height\": 1080, \"coco_url\": \"https://storage.googleapis.com/nmfs_odp_pifsc/nodd_tools/datasets/gfisher/example/data/annotations/viame_video_sample_2025_01_13.mp4.00.00.05.600000.jpg\"}, {\"id\": 26, \"file_name\": \"data_annotations_viame_video_sample_2025_01_13.mp4.00.00.05.800000.jpg\", \"width\": 1920, \"height\": 1080, \"coco_url\": \"https://storage.googleapis.com/nmfs_odp_pifsc/nodd_tools/datasets/gfisher/example/data/annotations/viame_video_sample_2025_01_13.mp4.00.00.05.800000.jpg\"}, {\"id\": 27, \"file_name\": \"data_annotations_viame_video_sample_2025_01_13.mp4.00.00.06.000000.jpg\", \"width\": 1920, \"height\": 1080, \"coco_url\": \"https://storage.googleapis.com/nmfs_odp_pifsc/nodd_tools/datasets/gfisher/example/data/annotations/viame_video_sample_2025_01_13.mp4.00.00.06.000000.jpg\"}, {\"id\": 28, \"file_name\": \"data_annotations_viame_video_sample_2025_01_13.mp4.00.00.06.200000.jpg\", \"width\": 1920, \"height\": 1080, \"coco_url\": \"https://storage.googleapis.com/nmfs_odp_pifsc/nodd_tools/datasets/gfisher/example/data/annotations/viame_video_sample_2025_01_13.mp4.00.00.06.200000.jpg\"}, {\"id\": 29, \"file_name\": \"data_annotations_viame_video_sample_2025_01_13.mp4.00.00.06.400000.jpg\", \"width\": 1920, \"height\": 1080, \"coco_url\": \"https://storage.googleapis.com/nmfs_odp_pifsc/nodd_tools/datasets/gfisher/example/data/annotations/viame_video_sample_2025_01_13.mp4.00.00.06.400000.jpg\"}, {\"id\": 30, \"file_name\": \"data_annotations_viame_video_sample_2025_01_13.mp4.00.00.06.600000.jpg\", \"width\": 1920, \"height\": 1080, \"coco_url\": \"https://storage.googleapis.com/nmfs_odp_pifsc/nodd_tools/datasets/gfisher/example/data/annotations/viame_video_sample_2025_01_13.mp4.00.00.06.600000.jpg\"}, {\"id\": 31, \"file_name\": \"data_annotations_viame_video_sample_2025_01_13.mp4.00.00.06.800000.jpg\", \"width\": 1920, \"height\": 1080, \"coco_url\": \"https://storage.googleapis.com/nmfs_odp_pifsc/nodd_tools/datasets/gfisher/example/data/annotations/viame_video_sample_2025_01_13.mp4.00.00.06.800000.jpg\"}, {\"id\": 32, \"file_name\": \"data_annotations_viame_video_sample_2025_01_13.mp4.00.00.07.000000.jpg\", \"width\": 1920, \"height\": 1080, \"coco_url\": \"https://storage.googleapis.com/nmfs_odp_pifsc/nodd_tools/datasets/gfisher/example/data/annotations/viame_video_sample_2025_01_13.mp4.00.00.07.000000.jpg\"}, {\"id\": 33, \"file_name\": \"data_annotations_viame_video_sample_2025_01_13.mp4.00.00.07.200000.jpg\", \"width\": 1920, \"height\": 1080, \"coco_url\": \"https://storage.googleapis.com/nmfs_odp_pifsc/nodd_tools/datasets/gfisher/example/data/annotations/viame_video_sample_2025_01_13.mp4.00.00.07.200000.jpg\"}, {\"id\": 34, \"file_name\": \"data_annotations_viame_video_sample_2025_01_13.mp4.00.00.07.400000.jpg\", \"width\": 1920, \"height\": 1080, \"coco_url\": \"https://storage.googleapis.com/nmfs_odp_pifsc/nodd_tools/datasets/gfisher/example/data/annotations/viame_video_sample_2025_01_13.mp4.00.00.07.400000.jpg\"}, {\"id\": 35, \"file_name\": \"data_annotations_viame_video_sample_2025_01_13.mp4.00.00.07.600000.jpg\", \"width\": 1920, \"height\": 1080, \"coco_url\": \"https://storage.googleapis.com/nmfs_odp_pifsc/nodd_tools/datasets/gfisher/example/data/annotations/viame_video_sample_2025_01_13.mp4.00.00.07.600000.jpg\"}, {\"id\": 36, \"file_name\": \"data_annotations_viame_video_sample_2025_01_13.mp4.00.00.07.800000.jpg\", \"width\": 1920, \"height\": 1080, \"coco_url\": \"https://storage.googleapis.com/nmfs_odp_pifsc/nodd_tools/datasets/gfisher/example/data/annotations/viame_video_sample_2025_01_13.mp4.00.00.07.800000.jpg\"}, {\"id\": 37, \"file_name\": \"data_annotations_viame_video_sample_2025_01_13.mp4.00.00.08.000000.jpg\", \"width\": 1920, \"height\": 1080, \"coco_url\": \"https://storage.googleapis.com/nmfs_odp_pifsc/nodd_tools/datasets/gfisher/example/data/annotations/viame_video_sample_2025_01_13.mp4.00.00.08.000000.jpg\"}, {\"id\": 38, \"file_name\": \"data_annotations_viame_video_sample_2025_01_13.mp4.00.00.08.200000.jpg\", \"width\": 1920, \"height\": 1080, \"coco_url\": \"https://storage.googleapis.com/nmfs_odp_pifsc/nodd_tools/datasets/gfisher/example/data/annotations/viame_video_sample_2025_01_13.mp4.00.00.08.200000.jpg\"}, {\"id\": 39, \"file_name\": \"data_annotations_viame_video_sample_2025_01_13.mp4.00.00.08.400000.jpg\", \"width\": 1920, \"height\": 1080, \"coco_url\": \"https://storage.googleapis.com/nmfs_odp_pifsc/nodd_tools/datasets/gfisher/example/data/annotations/viame_video_sample_2025_01_13.mp4.00.00.08.400000.jpg\"}, {\"id\": 40, \"file_name\": \"data_annotations_viame_video_sample_2025_01_13.mp4.00.00.08.600000.jpg\", \"width\": 1920, \"height\": 1080, \"coco_url\": \"https://storage.googleapis.com/nmfs_odp_pifsc/nodd_tools/datasets/gfisher/example/data/annotations/viame_video_sample_2025_01_13.mp4.00.00.08.600000.jpg\"}, {\"id\": 41, \"file_name\": \"data_annotations_viame_video_sample_2025_01_13.mp4.00.00.08.800000.jpg\", \"width\": 1920, \"height\": 1080, \"coco_url\": \"https://storage.googleapis.com/nmfs_odp_pifsc/nodd_tools/datasets/gfisher/example/data/annotations/viame_video_sample_2025_01_13.mp4.00.00.08.800000.jpg\"}, {\"id\": 42, \"file_name\": \"data_annotations_viame_video_sample_2025_01_13.mp4.00.00.09.000000.jpg\", \"width\": 1920, \"height\": 1080, \"coco_url\": \"https://storage.googleapis.com/nmfs_odp_pifsc/nodd_tools/datasets/gfisher/example/data/annotations/viame_video_sample_2025_01_13.mp4.00.00.09.000000.jpg\"}, {\"id\": 43, \"file_name\": \"data_annotations_viame_video_sample_2025_01_13.mp4.00.00.09.200000.jpg\", \"width\": 1920, \"height\": 1080, \"coco_url\": \"https://storage.googleapis.com/nmfs_odp_pifsc/nodd_tools/datasets/gfisher/example/data/annotations/viame_video_sample_2025_01_13.mp4.00.00.09.200000.jpg\"}], \"annotations\": [{\"image_id\": 1, \"id\": 0, \"category_id\": 1, \"bbox\": [4, 1627, 442, 197], \"area\": 87074, \"iscrowd\": 0}, {\"image_id\": 2, \"id\": 1, \"category_id\": 1, \"bbox\": [5, 1565, 435, 257], \"area\": 111795, \"iscrowd\": 0}, {\"image_id\": 3, \"id\": 2, \"category_id\": 1, \"bbox\": [6, 1501, 433, 324], \"area\": 140292, \"iscrowd\": 0}, {\"image_id\": 4, \"id\": 3, \"category_id\": 1, \"bbox\": [7, 1456, 431, 330], \"area\": 142230, \"iscrowd\": 0}, {\"image_id\": 5, \"id\": 4, \"category_id\": 1, \"bbox\": [8, 1455, 433, 267], \"area\": 115611, \"iscrowd\": 0}, {\"image_id\": 6, \"id\": 5, \"category_id\": 1, \"bbox\": [9, 1451, 430, 209], \"area\": 89870, \"iscrowd\": 0}, {\"image_id\": 7, \"id\": 6, \"category_id\": 1, \"bbox\": [10, 1282, 429, 312], \"area\": 133848, \"iscrowd\": 0}, {\"image_id\": 8, \"id\": 7, \"category_id\": 1, \"bbox\": [11, 1244, 417, 324], \"area\": 135108, \"iscrowd\": 0}, {\"image_id\": 9, \"id\": 8, \"category_id\": 1, \"bbox\": [12, 1217, 407, 305], \"area\": 124135, \"iscrowd\": 0}, {\"image_id\": 10, \"id\": 9, \"category_id\": 1, \"bbox\": [13, 1176, 412, 178], \"area\": 73336, \"iscrowd\": 0}, {\"image_id\": 11, \"id\": 10, \"category_id\": 1, \"bbox\": [14, 1137, 403, 217], \"area\": 87451, \"iscrowd\": 0}, {\"image_id\": 12, \"id\": 11, \"category_id\": 1, \"bbox\": [15, 1103, 386, 251], \"area\": 96886, \"iscrowd\": 0}, {\"image_id\": 13, \"id\": 12, \"category_id\": 1, \"bbox\": [16, 1055, 370, 290], \"area\": 107300, \"iscrowd\": 0}, {\"image_id\": 14, \"id\": 13, \"category_id\": 1, \"bbox\": [17, 1034, 357, 310], \"area\": 110670, \"iscrowd\": 0}, {\"image_id\": 15, \"id\": 14, \"category_id\": 1, \"bbox\": [18, 971, 344, 355], \"area\": 122120, \"iscrowd\": 0}, {\"image_id\": 16, \"id\": 15, \"category_id\": 1, \"bbox\": [19, 926, 331, 350], \"area\": 115850, \"iscrowd\": 0}, {\"image_id\": 17, \"id\": 16, \"category_id\": 1, \"bbox\": [20, 892, 311, 366], \"area\": 113826, \"iscrowd\": 0}, {\"image_id\": 18, \"id\": 17, \"category_id\": 1, \"bbox\": [21, 863, 291, 355], \"area\": 103305, \"iscrowd\": 0}, {\"image_id\": 19, \"id\": 18, \"category_id\": 1, \"bbox\": [22, 824, 271, 344], \"area\": 93224, \"iscrowd\": 0}, {\"image_id\": 20, \"id\": 19, \"category_id\": 1, \"bbox\": [23, 800, 253, 361], \"area\": 91333, \"iscrowd\": 0}, {\"image_id\": 21, \"id\": 20, \"category_id\": 1, \"bbox\": [24, 763, 230, 382], \"area\": 87860, \"iscrowd\": 0}, {\"image_id\": 22, \"id\": 21, \"category_id\": 1, \"bbox\": [25, 727, 205, 372], \"area\": 76260, \"iscrowd\": 0}, {\"image_id\": 23, \"id\": 22, \"category_id\": 1, \"bbox\": [26, 701, 185, 398], \"area\": 73630, \"iscrowd\": 0}, {\"image_id\": 24, \"id\": 23, \"category_id\": 1, \"bbox\": [27, 674, 172, 396], \"area\": 68112, \"iscrowd\": 0}, {\"image_id\": 25, \"id\": 24, \"category_id\": 1, \"bbox\": [28, 670, 171, 343], \"area\": 58653, \"iscrowd\": 0}, {\"image_id\": 26, \"id\": 25, \"category_id\": 1, \"bbox\": [29, 588, 163, 442], \"area\": 72046, \"iscrowd\": 0}, {\"image_id\": 27, \"id\": 26, \"category_id\": 1, \"bbox\": [30, 566, 136, 442], \"area\": 60112, \"iscrowd\": 0}, {\"image_id\": 28, \"id\": 27, \"category_id\": 1, \"bbox\": [31, 540, 106, 422], \"area\": 44732, \"iscrowd\": 0}, {\"image_id\": 29, \"id\": 28, \"category_id\": 1, \"bbox\": [32, 497, 78, 468], \"area\": 36504, \"iscrowd\": 0}, {\"image_id\": 30, \"id\": 29, \"category_id\": 1, \"bbox\": [33, 439, 56, 463], \"area\": 25928, \"iscrowd\": 0}, {\"image_id\": 31, \"id\": 30, \"category_id\": 1, \"bbox\": [34, 386, 36, 483], \"area\": 17388, \"iscrowd\": 0}, {\"image_id\": 32, \"id\": 31, \"category_id\": 1, \"bbox\": [35, 324, 11, 540], \"area\": 5940, \"iscrowd\": 0}, {\"image_id\": 33, \"id\": 32, \"category_id\": 1, \"bbox\": [36, 266, -5, 524], \"area\": -2620, \"iscrowd\": 0}, {\"image_id\": 34, \"id\": 33, \"category_id\": 1, \"bbox\": [37, 221, -27, 554], \"area\": -14958, \"iscrowd\": 0}, {\"image_id\": 35, \"id\": 34, \"category_id\": 1, \"bbox\": [38, 127, -38, 571], \"area\": -21698, \"iscrowd\": 0}, {\"image_id\": 36, \"id\": 35, \"category_id\": 1, \"bbox\": [39, 94, -44, 556], \"area\": -24464, \"iscrowd\": 0}, {\"image_id\": 37, \"id\": 36, \"category_id\": 1, \"bbox\": [40, 94, -40, 528], \"area\": -21120, \"iscrowd\": 0}, {\"image_id\": 38, \"id\": 37, \"category_id\": 1, \"bbox\": [41, 94, -39, 463], \"area\": -18057, \"iscrowd\": 0}, {\"image_id\": 39, \"id\": 38, \"category_id\": 1, \"bbox\": [42, 89, -47, 408], \"area\": -19176, \"iscrowd\": 0}, {\"image_id\": 40, \"id\": 39, \"category_id\": 1, \"bbox\": [43, 89, -48, 341], \"area\": -16368, \"iscrowd\": 0}, {\"image_id\": 41, \"id\": 40, \"category_id\": 1, \"bbox\": [44, 99, -31, 272], \"area\": -8432, \"iscrowd\": 0}, {\"image_id\": 42, \"id\": 41, \"category_id\": 1, \"bbox\": [45, 97, -34, 232], \"area\": -7888, \"iscrowd\": 0}, {\"image_id\": 43, \"id\": 42, \"category_id\": 1, \"bbox\": [46, 98, -46, 187], \"area\": -8602, \"iscrowd\": 0}], \"licenses\": [{\"name\": \"CC0 1.0 Universal\", \"id\": 0, \"url\": \"https://creativecommons.org/public-domain/cc0/\"}], \"categories\": [{\"name\": \"SERIOLAFASCIATA-170113103\", \"id\": 1}]}\n",
      "Contents uploaded to nodd_tools/datasets/gfisher/example/annotations.json.\n"
     ]
    }
   ],
   "source": [
    "coco_nodd_dataset = NODDCOCODataset(COCO_FILE, \"nodd_tools/datasets/gfisher/example\", \"nmfs_odp_pifsc\")\n",
    "coco_nodd_dataset.upload()"
   ]
  },
  {
   "cell_type": "code",
   "execution_count": 6,
   "id": "ce7c26e7-21f1-4d8c-aa05-a499166fed17",
   "metadata": {},
   "outputs": [],
   "source": [
    "# data are published, can remove the local files now\n",
    "shutil.rmtree(EXTRACT_PATH)\n",
    "os.remove(COCO_FILE)"
   ]
  },
  {
   "cell_type": "markdown",
   "id": "134554f1-ddb5-4ff9-92f5-d5a67cffd44e",
   "metadata": {},
   "source": [
    "# COCO retrieval pathway"
   ]
  },
  {
   "cell_type": "code",
   "execution_count": 7,
   "id": "e6afc45e-7c10-4728-841a-84817311daf7",
   "metadata": {},
   "outputs": [],
   "source": [
    "UPLOAD_URL = 'https://storage.googleapis.com/nmfs_odp_pifsc/nodd_tools/datasets/gfisher/example/annotations.json'\n",
    "DOWNLOAD_PATH = os.path.join(DATA, 'download')\n",
    "COCO_PATH = os.path.join(DOWNLOAD_PATH, 'annotations.json')\n",
    "IMAGES_PATH = os.path.join(DOWNLOAD_PATH, 'images')\n",
    "os.makedirs(DOWNLOAD_PATH, exist_ok=True)"
   ]
  },
  {
   "cell_type": "code",
   "execution_count": 8,
   "id": "4a1dfd99-facf-451d-bea6-4e323b6dbc7e",
   "metadata": {},
   "outputs": [
    {
     "name": "stdout",
     "output_type": "stream",
     "text": [
      "loading annotations into memory...\n",
      "Done (t=0.00s)\n",
      "creating index...\n",
      "index created!\n"
     ]
    }
   ],
   "source": [
    "uploaded_coco_file = requests.get(UPLOAD_URL)\n",
    "with open(COCO_PATH, 'wb') as f:\n",
    "    f.write(uploaded_coco_file.content)\n",
    "    coco = pycocotools.coco.COCO(COCO_PATH)"
   ]
  },
  {
   "cell_type": "code",
   "execution_count": 9,
   "id": "24da019d-b7a4-472b-bcdd-ba832e03badb",
   "metadata": {},
   "outputs": [
    {
     "name": "stdout",
     "output_type": "stream",
     "text": [
      "year: 2025\n",
      "version: 0.1\n",
      "description: example VIAME annotations\n",
      "date_created: 2025-01-28T16:53:58.002041+00:00\n"
     ]
    }
   ],
   "source": [
    "coco.info()"
   ]
  },
  {
   "cell_type": "code",
   "execution_count": 10,
   "id": "dd1579c8-6eae-4dd8-9efb-a3f503984378",
   "metadata": {
    "scrolled": true
   },
   "outputs": [
    {
     "name": "stdout",
     "output_type": "stream",
     "text": [
      "downloaded 0/43 images (t=0.4s)\n",
      "downloaded 1/43 images (t=0.4s)\n",
      "downloaded 2/43 images (t=0.3s)\n",
      "downloaded 3/43 images (t=0.4s)\n",
      "downloaded 4/43 images (t=0.3s)\n",
      "downloaded 5/43 images (t=0.3s)\n",
      "downloaded 6/43 images (t=0.4s)\n",
      "downloaded 7/43 images (t=0.4s)\n",
      "downloaded 8/43 images (t=0.4s)\n",
      "downloaded 9/43 images (t=0.3s)\n",
      "downloaded 10/43 images (t=0.5s)\n",
      "downloaded 11/43 images (t=0.4s)\n",
      "downloaded 12/43 images (t=0.4s)\n",
      "downloaded 13/43 images (t=0.5s)\n",
      "downloaded 14/43 images (t=0.4s)\n",
      "downloaded 15/43 images (t=0.4s)\n",
      "downloaded 16/43 images (t=0.3s)\n",
      "downloaded 17/43 images (t=0.4s)\n",
      "downloaded 18/43 images (t=0.4s)\n",
      "downloaded 19/43 images (t=0.4s)\n",
      "downloaded 20/43 images (t=0.4s)\n",
      "downloaded 21/43 images (t=0.7s)\n",
      "downloaded 22/43 images (t=0.4s)\n",
      "downloaded 23/43 images (t=0.4s)\n",
      "downloaded 24/43 images (t=0.4s)\n",
      "downloaded 25/43 images (t=0.4s)\n",
      "downloaded 26/43 images (t=0.4s)\n",
      "downloaded 27/43 images (t=0.4s)\n",
      "downloaded 28/43 images (t=0.5s)\n",
      "downloaded 29/43 images (t=0.4s)\n",
      "downloaded 30/43 images (t=0.6s)\n",
      "downloaded 31/43 images (t=0.4s)\n",
      "downloaded 32/43 images (t=0.4s)\n",
      "downloaded 33/43 images (t=0.4s)\n",
      "downloaded 34/43 images (t=0.3s)\n",
      "downloaded 35/43 images (t=0.4s)\n",
      "downloaded 36/43 images (t=0.3s)\n",
      "downloaded 37/43 images (t=0.4s)\n",
      "downloaded 38/43 images (t=0.5s)\n",
      "downloaded 39/43 images (t=0.6s)\n",
      "downloaded 40/43 images (t=0.3s)\n",
      "downloaded 41/43 images (t=0.3s)\n",
      "downloaded 42/43 images (t=0.4s)\n"
     ]
    }
   ],
   "source": [
    "coco.download(IMAGES_PATH)"
   ]
  },
  {
   "cell_type": "code",
   "execution_count": 11,
   "id": "b8f8c641-18b1-42a1-b7b8-d9a4ba18224a",
   "metadata": {},
   "outputs": [],
   "source": [
    "shutil.rmtree(DOWNLOAD_PATH)"
   ]
  },
  {
   "cell_type": "code",
   "execution_count": null,
   "id": "88d51d6d-ce34-4c20-a1ec-9d03eb206d36",
   "metadata": {},
   "outputs": [],
   "source": []
  },
  {
   "cell_type": "markdown",
   "id": "5f30f4ae-1f65-4288-aa0f-4565dfeb93ce",
   "metadata": {},
   "source": [
    "# Conversion to YOLO pathway"
   ]
  },
  {
   "cell_type": "code",
   "execution_count": 12,
   "id": "135e4d47-345a-47b5-9551-a45888b353e7",
   "metadata": {},
   "outputs": [],
   "source": [
    "UPLOAD_URL = 'https://storage.googleapis.com/nmfs_odp_pifsc/nodd_tools/datasets/gfisher/example/annotations.json'\n",
    "DOWNLOAD_PATH = os.path.join(DATA, 'download')\n",
    "COCO_PATH = os.path.join(DOWNLOAD_PATH, 'annotations.json')\n",
    "YOLO_PATH = os.path.join(DOWNLOAD_PATH, 'yolo_training_data')\n",
    "os.makedirs(YOLO_PATH, exist_ok=True)"
   ]
  },
  {
   "cell_type": "code",
   "execution_count": 13,
   "id": "43b8251e-a34a-441d-99b0-e7724bcc9728",
   "metadata": {},
   "outputs": [],
   "source": [
    "uploaded_coco_file = requests.get(UPLOAD_URL)\n",
    "with open(COCO_PATH, 'wb') as f:\n",
    "    f.write(uploaded_coco_file.content)"
   ]
  },
  {
   "cell_type": "code",
   "execution_count": 14,
   "id": "3e4f9df8-93d9-461b-90e4-d22d9675dbca",
   "metadata": {},
   "outputs": [
    {
     "name": "stderr",
     "output_type": "stream",
     "text": [
      "Annotations /home/scott/NOAA/research/nodd-tools/pynoddgcs/data/download/annotations.json: 100%|██████████| 43/43 [00:00"
     ]
    },
    {
     "name": "stdout",
     "output_type": "stream",
     "text": [
      "COCO data converted successfully.\n",
      "Results saved to /home/scott/NOAA/research/nodd-tools/pynoddgcs/notebooks/coco_converted\n"
     ]
    },
    {
     "name": "stderr",
     "output_type": "stream",
     "text": [
      "\n"
     ]
    },
    {
     "name": "stdout",
     "output_type": "stream",
     "text": [
      "loading annotations into memory...\n",
      "Done (t=0.00s)\n",
      "creating index...\n",
      "index created!\n",
      "loading annotations into memory...\n",
      "Done (t=0.00s)\n",
      "creating index...\n",
      "index created!\n",
      "downloaded 0/43 images (t=0.3s)\n",
      "downloaded 1/43 images (t=0.3s)\n",
      "downloaded 2/43 images (t=0.4s)\n",
      "downloaded 3/43 images (t=0.4s)\n",
      "downloaded 4/43 images (t=0.3s)\n",
      "downloaded 5/43 images (t=0.4s)\n",
      "downloaded 6/43 images (t=0.3s)\n",
      "downloaded 7/43 images (t=0.4s)\n",
      "downloaded 8/43 images (t=0.4s)\n",
      "downloaded 9/43 images (t=0.3s)\n",
      "downloaded 10/43 images (t=0.4s)\n",
      "downloaded 11/43 images (t=0.4s)\n",
      "downloaded 12/43 images (t=0.4s)\n",
      "downloaded 13/43 images (t=0.7s)\n",
      "downloaded 14/43 images (t=0.3s)\n",
      "downloaded 15/43 images (t=0.3s)\n",
      "downloaded 16/43 images (t=0.5s)\n",
      "downloaded 17/43 images (t=0.3s)\n",
      "downloaded 18/43 images (t=0.4s)\n",
      "downloaded 19/43 images (t=0.4s)\n",
      "downloaded 20/43 images (t=0.4s)\n",
      "downloaded 21/43 images (t=0.4s)\n",
      "downloaded 22/43 images (t=0.4s)\n",
      "downloaded 23/43 images (t=0.3s)\n",
      "downloaded 24/43 images (t=0.3s)\n",
      "downloaded 25/43 images (t=0.4s)\n",
      "downloaded 26/43 images (t=0.4s)\n",
      "downloaded 27/43 images (t=0.4s)\n",
      "downloaded 28/43 images (t=0.4s)\n",
      "downloaded 29/43 images (t=0.4s)\n",
      "downloaded 30/43 images (t=-0.6s)\n",
      "downloaded 31/43 images (t=0.4s)\n",
      "downloaded 32/43 images (t=0.4s)\n",
      "downloaded 33/43 images (t=0.4s)\n",
      "downloaded 34/43 images (t=0.4s)\n",
      "downloaded 35/43 images (t=0.4s)\n",
      "downloaded 36/43 images (t=0.5s)\n",
      "downloaded 37/43 images (t=0.8s)\n",
      "downloaded 38/43 images (t=0.4s)\n",
      "downloaded 39/43 images (t=0.4s)\n",
      "downloaded 40/43 images (t=0.4s)\n",
      "downloaded 41/43 images (t=0.4s)\n",
      "downloaded 42/43 images (t=0.4s)\n"
     ]
    }
   ],
   "source": [
    "pycocowriter.coco2yolo.coco2yolo(DOWNLOAD_PATH, YOLO_PATH)"
   ]
  },
  {
   "cell_type": "markdown",
   "id": "eae07517-1aa7-4682-917a-c0ac23b664fb",
   "metadata": {},
   "source": [
    "## Train a YOLO model"
   ]
  },
  {
   "cell_type": "code",
   "execution_count": 15,
   "id": "a544dadc-787c-43b1-a727-9e99eaa1d7bb",
   "metadata": {},
   "outputs": [],
   "source": [
    "import mlflow\n",
    "import torch as pt\n",
    "import numpy as np\n",
    "import matplotlib as mpl\n",
    "from ultralytics import YOLO"
   ]
  },
  {
   "cell_type": "code",
   "execution_count": 16,
   "id": "50b53afd-d43d-4476-ae53-b59de06bda78",
   "metadata": {},
   "outputs": [],
   "source": [
    "# TODO: the yolov8.yaml model file downloaded from Ultralytics needs manual editing for the number of classes\n",
    "YOLO_YAML = os.path.join(DATA, 'yolov8.yaml')\n",
    "YOLO_BASE_MODEL = os.path.join(DATA, 'yolov8n.pt')\n",
    "YOLO_TRAIN_YAML = os.path.join(YOLO_PATH, 'train.yaml')"
   ]
  },
  {
   "cell_type": "code",
   "execution_count": 17,
   "id": "4c737d37-b304-449d-b62d-2ab88dacf9f6",
   "metadata": {},
   "outputs": [],
   "source": [
    "mlflow.autolog()"
   ]
  },
  {
   "cell_type": "code",
   "execution_count": 18,
   "id": "f3fcf592-1123-42e5-97a3-45ca2f1a8b2b",
   "metadata": {},
   "outputs": [
    {
     "name": "stdout",
     "output_type": "stream",
     "text": [
      "WARNING ⚠️ no model scale passed. Assuming scale='n'.\n",
      "Transferred 319/355 items from pretrained weights\n"
     ]
    }
   ],
   "source": [
    "model = YOLO(YOLO_YAML).load(YOLO_BASE_MODEL)  # build a new model from scratch"
   ]
  },
  {
   "cell_type": "code",
   "execution_count": null,
   "id": "56870937-f905-4486-96e0-173cdfe0ce0a",
   "metadata": {
    "scrolled": true
   },
   "outputs": [
    {
     "name": "stdout",
     "output_type": "stream",
     "text": [
      "New https://pypi.org/project/ultralytics/8.3.68 available 😃 Update with 'pip install -U ultralytics'\n",
      "Ultralytics 8.3.66 🚀 Python-3.11.10 torch-2.5.1+cu124 CUDA:0 (NVIDIA RTX 1000 Ada Generation Laptop GPU, 6141MiB)\n",
      "\u001b[34m\u001b[1mengine/trainer: \u001b[0mtask=detect, mode=train, model=../data/yolov8.yaml, data=../data/download/yolo_training_data/train.yaml, epochs=100, time=None, patience=100, batch=16, imgsz=640, save=True, save_period=-1, cache=False, device=[0], workers=8, project=None, name=train, exist_ok=False, pretrained=../data/yolov8n.pt, optimizer=auto, verbose=True, seed=0, deterministic=True, single_cls=False, rect=False, cos_lr=False, close_mosaic=10, resume=False, amp=True, fraction=1.0, profile=False, freeze=None, multi_scale=False, overlap_mask=True, mask_ratio=4, dropout=0.0, val=True, split=val, save_json=False, save_hybrid=False, conf=None, iou=0.7, max_det=300, half=False, dnn=False, plots=True, source=None, vid_stride=1, stream_buffer=False, visualize=False, augment=False, agnostic_nms=False, classes=None, retina_masks=False, embed=None, show=False, save_frames=False, save_txt=False, save_conf=False, save_crop=False, show_labels=True, show_conf=True, show_boxes=True, line_width=None, format=torchscript, keras=False, optimize=False, int8=False, dynamic=False, simplify=True, opset=None, workspace=None, nms=False, lr0=0.01, lrf=0.01, momentum=0.937, weight_decay=0.0005, warmup_epochs=3.0, warmup_momentum=0.8, warmup_bias_lr=0.1, box=7.5, cls=0.5, dfl=1.5, pose=12.0, kobj=1.0, nbs=64, hsv_h=0.015, hsv_s=0.7, hsv_v=0.4, degrees=0.0, translate=0.1, scale=0.5, shear=0.0, perspective=0.0, flipud=0.0, fliplr=0.5, bgr=0.0, mosaic=1.0, mixup=0.0, copy_paste=0.0, copy_paste_mode=flip, auto_augment=randaugment, erasing=0.4, crop_fraction=1.0, cfg=None, tracker=botsort.yaml, save_dir=/home/scott/NOAA/research/nodd-tools/pynoddgcs/runs/detect/train\n",
      "WARNING ⚠️ no model scale passed. Assuming scale='n'.\n",
      "\n",
      "                   from  n    params  module                                       arguments                     \n",
      "  0                  -1  1       464  ultralytics.nn.modules.conv.Conv             [3, 16, 3, 2]                 \n",
      "  1                  -1  1      4672  ultralytics.nn.modules.conv.Conv             [16, 32, 3, 2]                \n",
      "  2                  -1  1      7360  ultralytics.nn.modules.block.C2f             [32, 32, 1, True]             \n",
      "  3                  -1  1     18560  ultralytics.nn.modules.conv.Conv             [32, 64, 3, 2]                \n",
      "  4                  -1  2     49664  ultralytics.nn.modules.block.C2f             [64, 64, 2, True]             \n",
      "  5                  -1  1     73984  ultralytics.nn.modules.conv.Conv             [64, 128, 3, 2]               \n",
      "  6                  -1  2    197632  ultralytics.nn.modules.block.C2f             [128, 128, 2, True]           \n",
      "  7                  -1  1    295424  ultralytics.nn.modules.conv.Conv             [128, 256, 3, 2]              \n",
      "  8                  -1  1    460288  ultralytics.nn.modules.block.C2f             [256, 256, 1, True]           \n",
      "  9                  -1  1    164608  ultralytics.nn.modules.block.SPPF            [256, 256, 5]                 \n",
      " 10                  -1  1         0  torch.nn.modules.upsampling.Upsample         [None, 2, 'nearest']          \n",
      " 11             [-1, 6]  1         0  ultralytics.nn.modules.conv.Concat           [1]                           \n",
      " 12                  -1  1    148224  ultralytics.nn.modules.block.C2f             [384, 128, 1]                 \n",
      " 13                  -1  1         0  torch.nn.modules.upsampling.Upsample         [None, 2, 'nearest']          \n",
      " 14             [-1, 4]  1         0  ultralytics.nn.modules.conv.Concat           [1]                           \n",
      " 15                  -1  1     37248  ultralytics.nn.modules.block.C2f             [192, 64, 1]                  \n",
      " 16                  -1  1     36992  ultralytics.nn.modules.conv.Conv             [64, 64, 3, 2]                \n",
      " 17            [-1, 12]  1         0  ultralytics.nn.modules.conv.Concat           [1]                           \n",
      " 18                  -1  1    123648  ultralytics.nn.modules.block.C2f             [192, 128, 1]                 \n",
      " 19                  -1  1    147712  ultralytics.nn.modules.conv.Conv             [128, 128, 3, 2]              \n",
      " 20             [-1, 9]  1         0  ultralytics.nn.modules.conv.Concat           [1]                           \n",
      " 21                  -1  1    493056  ultralytics.nn.modules.block.C2f             [384, 256, 1]                 \n",
      " 22        [15, 18, 21]  1    751507  ultralytics.nn.modules.head.Detect           [1, [64, 128, 256]]           \n",
      "YOLOv8 summary: 225 layers, 3,011,043 parameters, 3,011,027 gradients, 8.2 GFLOPs\n",
      "\n",
      "Transferred 355/355 items from pretrained weights\n",
      "Freezing layer 'model.22.dfl.conv.weight'\n",
      "\u001b[34m\u001b[1mAMP: \u001b[0mrunning Automatic Mixed Precision (AMP) checks...\n",
      "\u001b[34m\u001b[1mAMP: \u001b[0mchecks passed ✅\n"
     ]
    },
    {
     "name": "stderr",
     "output_type": "stream",
     "text": [
      "\u001b[34m\u001b[1mtrain: \u001b[0mScanning /home/scott/NOAA/research/nodd-tools/pynoddgcs/data/download/yolo_training_data/annotations/labels... 43\u001b[0m"
     ]
    },
    {
     "name": "stdout",
     "output_type": "stream",
     "text": [
      "\u001b[34m\u001b[1mtrain: \u001b[0mWARNING ⚠️ /home/scott/NOAA/research/nodd-tools/pynoddgcs/data/download/yolo_training_data/annotations/images/data_annotations_viame_video_sample_2025_01_13.mp4.00.00.00.800000.jpg: ignoring corrupt image/label: non-normalized or out of bounds coordinates [1.59769]\n",
      "\u001b[34m\u001b[1mtrain: \u001b[0mWARNING ⚠️ /home/scott/NOAA/research/nodd-tools/pynoddgcs/data/download/yolo_training_data/annotations/images/data_annotations_viame_video_sample_2025_01_13.mp4.00.00.01.000000.jpg: ignoring corrupt image/label: non-normalized or out of bounds coordinates [1.56806]\n",
      "\u001b[34m\u001b[1mtrain: \u001b[0mWARNING ⚠️ /home/scott/NOAA/research/nodd-tools/pynoddgcs/data/download/yolo_training_data/annotations/images/data_annotations_viame_video_sample_2025_01_13.mp4.00.00.01.200000.jpg: ignoring corrupt image/label: non-normalized or out of bounds coordinates [1.53981]\n",
      "\u001b[34m\u001b[1mtrain: \u001b[0mWARNING ⚠️ /home/scott/NOAA/research/nodd-tools/pynoddgcs/data/download/yolo_training_data/annotations/images/data_annotations_viame_video_sample_2025_01_13.mp4.00.00.01.400000.jpg: ignoring corrupt image/label: non-normalized or out of bounds coordinates [1.50093]\n",
      "\u001b[34m\u001b[1mtrain: \u001b[0mWARNING ⚠️ /home/scott/NOAA/research/nodd-tools/pynoddgcs/data/download/yolo_training_data/annotations/images/data_annotations_viame_video_sample_2025_01_13.mp4.00.00.01.600000.jpg: ignoring corrupt image/label: non-normalized or out of bounds coordinates [1.47083]\n",
      "\u001b[34m\u001b[1mtrain: \u001b[0mWARNING ⚠️ /home/scott/NOAA/research/nodd-tools/pynoddgcs/data/download/yolo_training_data/annotations/images/data_annotations_viame_video_sample_2025_01_13.mp4.00.00.01.800000.jpg: ignoring corrupt image/label: non-normalized or out of bounds coordinates [1.44028]\n",
      "\u001b[34m\u001b[1mtrain: \u001b[0mWARNING ⚠️ /home/scott/NOAA/research/nodd-tools/pynoddgcs/data/download/yolo_training_data/annotations/images/data_annotations_viame_video_sample_2025_01_13.mp4.00.00.02.000000.jpg: ignoring corrupt image/label: non-normalized or out of bounds coordinates [1.33148]\n",
      "\u001b[34m\u001b[1mtrain: \u001b[0mWARNING ⚠️ /home/scott/NOAA/research/nodd-tools/pynoddgcs/data/download/yolo_training_data/annotations/images/data_annotations_viame_video_sample_2025_01_13.mp4.00.00.02.200000.jpg: ignoring corrupt image/label: non-normalized or out of bounds coordinates [1.30185]\n",
      "\u001b[34m\u001b[1mtrain: \u001b[0mWARNING ⚠️ /home/scott/NOAA/research/nodd-tools/pynoddgcs/data/download/yolo_training_data/annotations/images/data_annotations_viame_video_sample_2025_01_13.mp4.00.00.02.400000.jpg: ignoring corrupt image/label: non-normalized or out of bounds coordinates [1.26806]\n",
      "\u001b[34m\u001b[1mtrain: \u001b[0mWARNING ⚠️ /home/scott/NOAA/research/nodd-tools/pynoddgcs/data/download/yolo_training_data/annotations/images/data_annotations_viame_video_sample_2025_01_13.mp4.00.00.02.600000.jpg: ignoring corrupt image/label: non-normalized or out of bounds coordinates [1.1713]\n",
      "\u001b[34m\u001b[1mtrain: \u001b[0mWARNING ⚠️ /home/scott/NOAA/research/nodd-tools/pynoddgcs/data/download/yolo_training_data/annotations/images/data_annotations_viame_video_sample_2025_01_13.mp4.00.00.02.800000.jpg: ignoring corrupt image/label: non-normalized or out of bounds coordinates [1.15324]\n",
      "\u001b[34m\u001b[1mtrain: \u001b[0mWARNING ⚠️ /home/scott/NOAA/research/nodd-tools/pynoddgcs/data/download/yolo_training_data/annotations/images/data_annotations_viame_video_sample_2025_01_13.mp4.00.00.03.000000.jpg: ignoring corrupt image/label: non-normalized or out of bounds coordinates [1.1375]\n",
      "\u001b[34m\u001b[1mtrain: \u001b[0mWARNING ⚠️ /home/scott/NOAA/research/nodd-tools/pynoddgcs/data/download/yolo_training_data/annotations/images/data_annotations_viame_video_sample_2025_01_13.mp4.00.00.03.200000.jpg: ignoring corrupt image/label: non-normalized or out of bounds coordinates [1.11111]\n",
      "\u001b[34m\u001b[1mtrain: \u001b[0mWARNING ⚠️ /home/scott/NOAA/research/nodd-tools/pynoddgcs/data/download/yolo_training_data/annotations/images/data_annotations_viame_video_sample_2025_01_13.mp4.00.00.03.400000.jpg: ignoring corrupt image/label: non-normalized or out of bounds coordinates [1.10093]\n",
      "\u001b[34m\u001b[1mtrain: \u001b[0mWARNING ⚠️ /home/scott/NOAA/research/nodd-tools/pynoddgcs/data/download/yolo_training_data/annotations/images/data_annotations_viame_video_sample_2025_01_13.mp4.00.00.03.600000.jpg: ignoring corrupt image/label: non-normalized or out of bounds coordinates [1.06343]\n",
      "\u001b[34m\u001b[1mtrain: \u001b[0mWARNING ⚠️ /home/scott/NOAA/research/nodd-tools/pynoddgcs/data/download/yolo_training_data/annotations/images/data_annotations_viame_video_sample_2025_01_13.mp4.00.00.03.800000.jpg: ignoring corrupt image/label: non-normalized or out of bounds coordinates [1.01944]\n",
      "\u001b[34m\u001b[1mtrain: \u001b[0mNew cache created: /home/scott/NOAA/research/nodd-tools/pynoddgcs/data/download/yolo_training_data/annotations/labels.cache\n"
     ]
    },
    {
     "name": "stderr",
     "output_type": "stream",
     "text": [
      "\n",
      "\u001b[34m\u001b[1mval: \u001b[0mScanning /home/scott/NOAA/research/nodd-tools/pynoddgcs/data/download/yolo_training_data/annotations/labels.cache..\u001b[0m"
     ]
    },
    {
     "name": "stdout",
     "output_type": "stream",
     "text": [
      "\u001b[34m\u001b[1mtrain: \u001b[0mWARNING ⚠️ /home/scott/NOAA/research/nodd-tools/pynoddgcs/data/download/yolo_training_data/annotations/images/data_annotations_viame_video_sample_2025_01_13.mp4.00.00.00.800000.jpg: ignoring corrupt image/label: non-normalized or out of bounds coordinates [1.59769]\n",
      "\u001b[34m\u001b[1mtrain: \u001b[0mWARNING ⚠️ /home/scott/NOAA/research/nodd-tools/pynoddgcs/data/download/yolo_training_data/annotations/images/data_annotations_viame_video_sample_2025_01_13.mp4.00.00.01.000000.jpg: ignoring corrupt image/label: non-normalized or out of bounds coordinates [1.56806]\n",
      "\u001b[34m\u001b[1mtrain: \u001b[0mWARNING ⚠️ /home/scott/NOAA/research/nodd-tools/pynoddgcs/data/download/yolo_training_data/annotations/images/data_annotations_viame_video_sample_2025_01_13.mp4.00.00.01.200000.jpg: ignoring corrupt image/label: non-normalized or out of bounds coordinates [1.53981]\n",
      "\u001b[34m\u001b[1mtrain: \u001b[0mWARNING ⚠️ /home/scott/NOAA/research/nodd-tools/pynoddgcs/data/download/yolo_training_data/annotations/images/data_annotations_viame_video_sample_2025_01_13.mp4.00.00.01.400000.jpg: ignoring corrupt image/label: non-normalized or out of bounds coordinates [1.50093]\n",
      "\u001b[34m\u001b[1mtrain: \u001b[0mWARNING ⚠️ /home/scott/NOAA/research/nodd-tools/pynoddgcs/data/download/yolo_training_data/annotations/images/data_annotations_viame_video_sample_2025_01_13.mp4.00.00.01.600000.jpg: ignoring corrupt image/label: non-normalized or out of bounds coordinates [1.47083]\n",
      "\u001b[34m\u001b[1mtrain: \u001b[0mWARNING ⚠️ /home/scott/NOAA/research/nodd-tools/pynoddgcs/data/download/yolo_training_data/annotations/images/data_annotations_viame_video_sample_2025_01_13.mp4.00.00.01.800000.jpg: ignoring corrupt image/label: non-normalized or out of bounds coordinates [1.44028]\n",
      "\u001b[34m\u001b[1mtrain: \u001b[0mWARNING ⚠️ /home/scott/NOAA/research/nodd-tools/pynoddgcs/data/download/yolo_training_data/annotations/images/data_annotations_viame_video_sample_2025_01_13.mp4.00.00.02.000000.jpg: ignoring corrupt image/label: non-normalized or out of bounds coordinates [1.33148]\n",
      "\u001b[34m\u001b[1mtrain: \u001b[0mWARNING ⚠️ /home/scott/NOAA/research/nodd-tools/pynoddgcs/data/download/yolo_training_data/annotations/images/data_annotations_viame_video_sample_2025_01_13.mp4.00.00.02.200000.jpg: ignoring corrupt image/label: non-normalized or out of bounds coordinates [1.30185]\n",
      "\u001b[34m\u001b[1mtrain: \u001b[0mWARNING ⚠️ /home/scott/NOAA/research/nodd-tools/pynoddgcs/data/download/yolo_training_data/annotations/images/data_annotations_viame_video_sample_2025_01_13.mp4.00.00.02.400000.jpg: ignoring corrupt image/label: non-normalized or out of bounds coordinates [1.26806]\n",
      "\u001b[34m\u001b[1mtrain: \u001b[0mWARNING ⚠️ /home/scott/NOAA/research/nodd-tools/pynoddgcs/data/download/yolo_training_data/annotations/images/data_annotations_viame_video_sample_2025_01_13.mp4.00.00.02.600000.jpg: ignoring corrupt image/label: non-normalized or out of bounds coordinates [1.1713]\n",
      "\u001b[34m\u001b[1mtrain: \u001b[0mWARNING ⚠️ /home/scott/NOAA/research/nodd-tools/pynoddgcs/data/download/yolo_training_data/annotations/images/data_annotations_viame_video_sample_2025_01_13.mp4.00.00.02.800000.jpg: ignoring corrupt image/label: non-normalized or out of bounds coordinates [1.15324]\n",
      "\u001b[34m\u001b[1mtrain: \u001b[0mWARNING ⚠️ /home/scott/NOAA/research/nodd-tools/pynoddgcs/data/download/yolo_training_data/annotations/images/data_annotations_viame_video_sample_2025_01_13.mp4.00.00.03.000000.jpg: ignoring corrupt image/label: non-normalized or out of bounds coordinates [1.1375]\n",
      "\u001b[34m\u001b[1mtrain: \u001b[0mWARNING ⚠️ /home/scott/NOAA/research/nodd-tools/pynoddgcs/data/download/yolo_training_data/annotations/images/data_annotations_viame_video_sample_2025_01_13.mp4.00.00.03.200000.jpg: ignoring corrupt image/label: non-normalized or out of bounds coordinates [1.11111]\n",
      "\u001b[34m\u001b[1mtrain: \u001b[0mWARNING ⚠️ /home/scott/NOAA/research/nodd-tools/pynoddgcs/data/download/yolo_training_data/annotations/images/data_annotations_viame_video_sample_2025_01_13.mp4.00.00.03.400000.jpg: ignoring corrupt image/label: non-normalized or out of bounds coordinates [1.10093]\n",
      "\u001b[34m\u001b[1mtrain: \u001b[0mWARNING ⚠️ /home/scott/NOAA/research/nodd-tools/pynoddgcs/data/download/yolo_training_data/annotations/images/data_annotations_viame_video_sample_2025_01_13.mp4.00.00.03.600000.jpg: ignoring corrupt image/label: non-normalized or out of bounds coordinates [1.06343]\n",
      "\u001b[34m\u001b[1mtrain: \u001b[0mWARNING ⚠️ /home/scott/NOAA/research/nodd-tools/pynoddgcs/data/download/yolo_training_data/annotations/images/data_annotations_viame_video_sample_2025_01_13.mp4.00.00.03.800000.jpg: ignoring corrupt image/label: non-normalized or out of bounds coordinates [1.01944]\n"
     ]
    },
    {
     "name": "stderr",
     "output_type": "stream",
     "text": [
      "\n"
     ]
    },
    {
     "name": "stdout",
     "output_type": "stream",
     "text": [
      "Plotting labels to /home/scott/NOAA/research/nodd-tools/pynoddgcs/runs/detect/train/labels.jpg... \n",
      "\u001b[34m\u001b[1moptimizer:\u001b[0m 'optimizer=auto' found, ignoring 'lr0=0.01' and 'momentum=0.937' and determining best 'optimizer', 'lr0' and 'momentum' automatically... \n",
      "\u001b[34m\u001b[1moptimizer:\u001b[0m AdamW(lr=0.002, momentum=0.9) with parameter groups 57 weight(decay=0.0), 64 weight(decay=0.0005), 63 bias(decay=0.0)\n"
     ]
    },
    {
     "name": "stderr",
     "output_type": "stream",
     "text": [
      "2025/01/28 10:55:02 INFO mlflow.tracking.fluent: Experiment with name '/Shared/Ultralytics' does not exist. Creating a new experiment.\n"
     ]
    },
    {
     "name": "stdout",
     "output_type": "stream",
     "text": [
      "\u001b[34m\u001b[1mMLflow: \u001b[0mlogging run_id(eafc7f2ca3a54efb9d3961294cd2ee66) to /home/scott/NOAA/research/nodd-tools/pynoddgcs/runs/mlflow\n",
      "\u001b[34m\u001b[1mMLflow: \u001b[0mview at http://127.0.0.1:5000 with 'mlflow server --backend-store-uri /home/scott/NOAA/research/nodd-tools/pynoddgcs/runs/mlflow'\n",
      "\u001b[34m\u001b[1mMLflow: \u001b[0mdisable with 'yolo settings mlflow=False'\n",
      "Image sizes 640 train, 640 val\n",
      "Using 8 dataloader workers\n",
      "Logging results to \u001b[1m/home/scott/NOAA/research/nodd-tools/pynoddgcs/runs/detect/train\u001b[0m\n",
      "Starting training for 100 epochs...\n",
      "\n",
      "      Epoch    GPU_mem   box_loss   cls_loss   dfl_loss  Instances       Size\n"
     ]
    },
    {
     "name": "stderr",
     "output_type": "stream",
     "text": [
      "      1/100      2.03G      4.108       8.39      3.498         14        640: 100%|██████████| 2/2 [00:01<00:00,  1.64i\n",
      "                 Class     Images  Instances      Box(P          R      mAP50  mAP50-95): 100%|██████████| 1/1 [00:00<00"
     ]
    },
    {
     "name": "stdout",
     "output_type": "stream",
     "text": [
      "                   all         27         16    0.00136      0.688    0.00337   0.000817\n"
     ]
    },
    {
     "name": "stderr",
     "output_type": "stream",
     "text": [
      "\n"
     ]
    },
    {
     "name": "stdout",
     "output_type": "stream",
     "text": [
      "\n",
      "      Epoch    GPU_mem   box_loss   cls_loss   dfl_loss  Instances       Size\n"
     ]
    },
    {
     "name": "stderr",
     "output_type": "stream",
     "text": [
      "      2/100      2.11G      4.392      9.649       3.66         11        640: 100%|██████████| 2/2 [00:00<00:00,  3.40i\n",
      "                 Class     Images  Instances      Box(P          R      mAP50  mAP50-95): 100%|██████████| 1/1 [00:00<00\n"
     ]
    },
    {
     "name": "stdout",
     "output_type": "stream",
     "text": [
      "                   all         27         16    0.00136      0.688    0.00336   0.000814\n",
      "\n",
      "      Epoch    GPU_mem   box_loss   cls_loss   dfl_loss  Instances       Size\n"
     ]
    },
    {
     "name": "stderr",
     "output_type": "stream",
     "text": [
      "      3/100       2.1G       4.62      8.993       3.91         10        640: 100%|██████████| 2/2 [00:00<00:00,  4.01i\n",
      "                 Class     Images  Instances      Box(P          R      mAP50  mAP50-95): 100%|██████████| 1/1 [00:00<00\n"
     ]
    },
    {
     "name": "stdout",
     "output_type": "stream",
     "text": [
      "                   all         27         16    0.00136      0.688    0.00331   0.000859\n",
      "\n",
      "      Epoch    GPU_mem   box_loss   cls_loss   dfl_loss  Instances       Size\n"
     ]
    },
    {
     "name": "stderr",
     "output_type": "stream",
     "text": [
      "      4/100      2.12G       4.41      8.667      3.948         10        640: 100%|██████████| 2/2 [00:00<00:00,  4.06i\n",
      "                 Class     Images  Instances      Box(P          R      mAP50  mAP50-95): 100%|██████████| 1/1 [00:00<00"
     ]
    },
    {
     "name": "stdout",
     "output_type": "stream",
     "text": [
      "                   all         27         16    0.00136      0.688    0.00334   0.000677\n"
     ]
    },
    {
     "name": "stderr",
     "output_type": "stream",
     "text": [
      "\n"
     ]
    },
    {
     "name": "stdout",
     "output_type": "stream",
     "text": [
      "\n",
      "      Epoch    GPU_mem   box_loss   cls_loss   dfl_loss  Instances       Size\n"
     ]
    },
    {
     "name": "stderr",
     "output_type": "stream",
     "text": [
      "      5/100      2.04G      4.012      7.427      3.498         10        640: 100%|██████████| 2/2 [00:00<00:00,  4.07i\n",
      "                 Class     Images  Instances      Box(P          R      mAP50  mAP50-95): 100%|██████████| 1/1 [00:00<00"
     ]
    },
    {
     "name": "stdout",
     "output_type": "stream",
     "text": [
      "                   all         27         16    0.00136      0.688    0.00257   0.000536\n"
     ]
    },
    {
     "name": "stderr",
     "output_type": "stream",
     "text": [
      "\n"
     ]
    },
    {
     "name": "stdout",
     "output_type": "stream",
     "text": [
      "\n",
      "      Epoch    GPU_mem   box_loss   cls_loss   dfl_loss  Instances       Size\n"
     ]
    },
    {
     "name": "stderr",
     "output_type": "stream",
     "text": [
      "      6/100      2.04G      3.381      7.789      2.681          7        640: 100%|██████████| 2/2 [00:00<00:00,  4.36i\n",
      "                 Class     Images  Instances      Box(P          R      mAP50  mAP50-95): 100%|██████████| 1/1 [00:00<00\n"
     ]
    },
    {
     "name": "stdout",
     "output_type": "stream",
     "text": [
      "                   all         27         16    0.00148       0.75    0.00251    0.00087\n",
      "\n",
      "      Epoch    GPU_mem   box_loss   cls_loss   dfl_loss  Instances       Size\n"
     ]
    },
    {
     "name": "stderr",
     "output_type": "stream",
     "text": [
      "      7/100      2.04G      3.308       6.02      2.671         14        640: 100%|██████████| 2/2 [00:00<00:00,  3.79i\n",
      "                 Class     Images  Instances      Box(P          R      mAP50  mAP50-95): 100%|██████████| 1/1 [00:00<00\n"
     ]
    },
    {
     "name": "stdout",
     "output_type": "stream",
     "text": [
      "                   all         27         16    0.00148       0.75      0.003    0.00116\n",
      "\n",
      "      Epoch    GPU_mem   box_loss   cls_loss   dfl_loss  Instances       Size\n"
     ]
    },
    {
     "name": "stderr",
     "output_type": "stream",
     "text": [
      "      8/100      2.04G      3.052      5.852       2.53         10        640: 100%|██████████| 2/2 [00:00<00:00,  4.53i\n",
      "                 Class     Images  Instances      Box(P          R      mAP50  mAP50-95): 100%|██████████| 1/1 [00:00<00"
     ]
    },
    {
     "name": "stdout",
     "output_type": "stream",
     "text": [
      "                   all         27         16    0.00148       0.75    0.00586    0.00142\n"
     ]
    },
    {
     "name": "stderr",
     "output_type": "stream",
     "text": [
      "\n"
     ]
    },
    {
     "name": "stdout",
     "output_type": "stream",
     "text": [
      "\n",
      "      Epoch    GPU_mem   box_loss   cls_loss   dfl_loss  Instances       Size\n"
     ]
    },
    {
     "name": "stderr",
     "output_type": "stream",
     "text": [
      "      9/100      2.04G       2.51      5.451      2.043         11        640: 100%|██████████| 2/2 [00:00<00:00,  4.96i\n",
      "                 Class     Images  Instances      Box(P          R      mAP50  mAP50-95): 100%|██████████| 1/1 [00:00<00"
     ]
    },
    {
     "name": "stdout",
     "output_type": "stream",
     "text": [
      "                   all         27         16     0.0016      0.812     0.0498     0.0132\n"
     ]
    },
    {
     "name": "stderr",
     "output_type": "stream",
     "text": [
      "\n"
     ]
    },
    {
     "name": "stdout",
     "output_type": "stream",
     "text": [
      "\n",
      "      Epoch    GPU_mem   box_loss   cls_loss   dfl_loss  Instances       Size\n"
     ]
    },
    {
     "name": "stderr",
     "output_type": "stream",
     "text": [
      "     10/100      2.07G      3.011      5.227      2.369         17        640: 100%|██████████| 2/2 [00:00<00:00,  4.42i\n",
      "                 Class     Images  Instances      Box(P          R      mAP50  mAP50-95): 100%|██████████| 1/1 [00:00<00"
     ]
    },
    {
     "name": "stdout",
     "output_type": "stream",
     "text": [
      "                   all         27         16     0.0016      0.812     0.0544     0.0126\n"
     ]
    },
    {
     "name": "stderr",
     "output_type": "stream",
     "text": [
      "\n"
     ]
    },
    {
     "name": "stdout",
     "output_type": "stream",
     "text": [
      "\n",
      "      Epoch    GPU_mem   box_loss   cls_loss   dfl_loss  Instances       Size\n"
     ]
    },
    {
     "name": "stderr",
     "output_type": "stream",
     "text": [
      "     11/100      2.07G      3.175      6.099      2.428          6        640: 100%|██████████| 2/2 [00:00<00:00,  4.25i\n",
      "                 Class     Images  Instances      Box(P          R      mAP50  mAP50-95): 100%|██████████| 1/1 [00:00<00\n"
     ]
    },
    {
     "name": "stdout",
     "output_type": "stream",
     "text": [
      "                   all         27         16     0.0016      0.812     0.0159    0.00544\n",
      "\n",
      "      Epoch    GPU_mem   box_loss   cls_loss   dfl_loss  Instances       Size\n"
     ]
    },
    {
     "name": "stderr",
     "output_type": "stream",
     "text": [
      "     12/100      2.07G      2.392      4.624      1.983         15        640: 100%|██████████| 2/2 [00:00<00:00,  4.36i\n",
      "                 Class     Images  Instances      Box(P          R      mAP50  mAP50-95): 100%|██████████| 1/1 [00:00<00"
     ]
    },
    {
     "name": "stdout",
     "output_type": "stream",
     "text": [
      "                   all         27         16     0.0016      0.812     0.0268    0.00572\n"
     ]
    },
    {
     "name": "stderr",
     "output_type": "stream",
     "text": [
      "\n"
     ]
    },
    {
     "name": "stdout",
     "output_type": "stream",
     "text": [
      "\n",
      "      Epoch    GPU_mem   box_loss   cls_loss   dfl_loss  Instances       Size\n"
     ]
    },
    {
     "name": "stderr",
     "output_type": "stream",
     "text": [
      "     13/100      2.07G      2.396      4.694      2.063         11        640: 100%|██████████| 2/2 [00:00<00:00,  4.51i\n",
      "                 Class     Images  Instances      Box(P          R      mAP50  mAP50-95): 100%|██████████| 1/1 [00:00<00"
     ]
    },
    {
     "name": "stdout",
     "output_type": "stream",
     "text": [
      "                   all         27         16     0.0016      0.812     0.0105    0.00343\n"
     ]
    },
    {
     "name": "stderr",
     "output_type": "stream",
     "text": [
      "\n"
     ]
    },
    {
     "name": "stdout",
     "output_type": "stream",
     "text": [
      "\n",
      "      Epoch    GPU_mem   box_loss   cls_loss   dfl_loss  Instances       Size\n"
     ]
    },
    {
     "name": "stderr",
     "output_type": "stream",
     "text": [
      "     14/100      2.07G       2.47      4.726      2.089         11        640: 100%|██████████| 2/2 [00:00<00:00,  4.40i\n",
      "                 Class     Images  Instances      Box(P          R      mAP50  mAP50-95): 100%|██████████| 1/1 [00:00<00"
     ]
    },
    {
     "name": "stdout",
     "output_type": "stream",
     "text": [
      "                   all         27         16    0.00173      0.875     0.0102    0.00263\n"
     ]
    },
    {
     "name": "stderr",
     "output_type": "stream",
     "text": [
      "\n"
     ]
    },
    {
     "name": "stdout",
     "output_type": "stream",
     "text": [
      "\n",
      "      Epoch    GPU_mem   box_loss   cls_loss   dfl_loss  Instances       Size\n"
     ]
    },
    {
     "name": "stderr",
     "output_type": "stream",
     "text": [
      "     15/100      2.07G      2.302      5.025      1.874         11        640: 100%|██████████| 2/2 [00:00<00:00,  4.55i\n",
      "                 Class     Images  Instances      Box(P          R      mAP50  mAP50-95): 100%|██████████| 1/1 [00:00<00"
     ]
    },
    {
     "name": "stdout",
     "output_type": "stream",
     "text": [
      "                   all         27         16     0.0016      0.812    0.00676     0.0022\n"
     ]
    },
    {
     "name": "stderr",
     "output_type": "stream",
     "text": [
      "\n"
     ]
    },
    {
     "name": "stdout",
     "output_type": "stream",
     "text": [
      "\n",
      "      Epoch    GPU_mem   box_loss   cls_loss   dfl_loss  Instances       Size\n"
     ]
    },
    {
     "name": "stderr",
     "output_type": "stream",
     "text": [
      "     16/100      2.07G      2.131      3.985       1.76         15        640: 100%|██████████| 2/2 [00:00<00:00,  4.71i\n",
      "                 Class     Images  Instances      Box(P          R      mAP50  mAP50-95): 100%|██████████| 1/1 [00:00<00"
     ]
    },
    {
     "name": "stdout",
     "output_type": "stream",
     "text": [
      "                   all         27         16    0.00148       0.75    0.00582    0.00195\n"
     ]
    },
    {
     "name": "stderr",
     "output_type": "stream",
     "text": [
      "\n"
     ]
    },
    {
     "name": "stdout",
     "output_type": "stream",
     "text": [
      "\n",
      "      Epoch    GPU_mem   box_loss   cls_loss   dfl_loss  Instances       Size\n"
     ]
    },
    {
     "name": "stderr",
     "output_type": "stream",
     "text": [
      "     17/100      2.07G      2.008      4.034       1.68         14        640: 100%|██████████| 2/2 [00:00<00:00,  4.39i\n",
      "                 Class     Images  Instances      Box(P          R      mAP50  mAP50-95): 100%|██████████| 1/1 [00:00<00"
     ]
    },
    {
     "name": "stdout",
     "output_type": "stream",
     "text": [
      "                   all         27         16    0.00148       0.75     0.0087    0.00228\n"
     ]
    },
    {
     "name": "stderr",
     "output_type": "stream",
     "text": [
      "\n"
     ]
    },
    {
     "name": "stdout",
     "output_type": "stream",
     "text": [
      "\n",
      "      Epoch    GPU_mem   box_loss   cls_loss   dfl_loss  Instances       Size\n"
     ]
    },
    {
     "name": "stderr",
     "output_type": "stream",
     "text": [
      "     18/100      2.07G      2.289      3.854      1.945         20        640: 100%|██████████| 2/2 [00:00<00:00,  4.72i\n",
      "                 Class     Images  Instances      Box(P          R      mAP50  mAP50-95): 100%|██████████| 1/1 [00:00<00"
     ]
    },
    {
     "name": "stdout",
     "output_type": "stream",
     "text": [
      "                   all         27         16    0.00136      0.688     0.0055    0.00173\n"
     ]
    },
    {
     "name": "stderr",
     "output_type": "stream",
     "text": [
      "\n"
     ]
    },
    {
     "name": "stdout",
     "output_type": "stream",
     "text": [
      "\n",
      "      Epoch    GPU_mem   box_loss   cls_loss   dfl_loss  Instances       Size\n"
     ]
    },
    {
     "name": "stderr",
     "output_type": "stream",
     "text": [
      "     19/100      2.07G      1.938       4.04      1.613         11        640: 100%|██████████| 2/2 [00:00<00:00,  4.84i\n",
      "                 Class     Images  Instances      Box(P          R      mAP50  mAP50-95): 100%|██████████| 1/1 [00:00<00"
     ]
    },
    {
     "name": "stdout",
     "output_type": "stream",
     "text": [
      "                   all         27         16    0.00123      0.625     0.0055    0.00144\n"
     ]
    },
    {
     "name": "stderr",
     "output_type": "stream",
     "text": [
      "\n"
     ]
    },
    {
     "name": "stdout",
     "output_type": "stream",
     "text": [
      "\n",
      "      Epoch    GPU_mem   box_loss   cls_loss   dfl_loss  Instances       Size\n"
     ]
    },
    {
     "name": "stderr",
     "output_type": "stream",
     "text": [
      "     20/100      2.07G      2.489      4.734      2.017         15        640: 100%|██████████| 2/2 [00:00<00:00,  3.86i\n",
      "                 Class     Images  Instances      Box(P          R      mAP50  mAP50-95): 100%|██████████| 1/1 [00:00<00"
     ]
    },
    {
     "name": "stdout",
     "output_type": "stream",
     "text": [
      "                   all         27         16    0.00148       0.75     0.0053    0.00196\n"
     ]
    },
    {
     "name": "stderr",
     "output_type": "stream",
     "text": [
      "\n"
     ]
    },
    {
     "name": "stdout",
     "output_type": "stream",
     "text": [
      "\n",
      "      Epoch    GPU_mem   box_loss   cls_loss   dfl_loss  Instances       Size\n"
     ]
    },
    {
     "name": "stderr",
     "output_type": "stream",
     "text": [
      "     21/100      2.07G      1.961      4.032      1.824         11        640: 100%|██████████| 2/2 [00:00<00:00,  4.73i\n",
      "                 Class     Images  Instances      Box(P          R      mAP50  mAP50-95): 100%|██████████| 1/1 [00:00<00"
     ]
    },
    {
     "name": "stdout",
     "output_type": "stream",
     "text": [
      "                   all         27         16    0.00148       0.75      0.012    0.00413\n"
     ]
    },
    {
     "name": "stderr",
     "output_type": "stream",
     "text": [
      "\n"
     ]
    },
    {
     "name": "stdout",
     "output_type": "stream",
     "text": [
      "\n",
      "      Epoch    GPU_mem   box_loss   cls_loss   dfl_loss  Instances       Size\n"
     ]
    },
    {
     "name": "stderr",
     "output_type": "stream",
     "text": [
      "     22/100      2.07G        2.2      4.969      1.869          6        640: 100%|██████████| 2/2 [00:00<00:00,  4.51i\n",
      "                 Class     Images  Instances      Box(P          R      mAP50  mAP50-95): 100%|██████████| 1/1 [00:00<00"
     ]
    },
    {
     "name": "stdout",
     "output_type": "stream",
     "text": [
      "                   all         27         16    0.00148       0.75     0.0427     0.0116\n"
     ]
    },
    {
     "name": "stderr",
     "output_type": "stream",
     "text": [
      "\n"
     ]
    },
    {
     "name": "stdout",
     "output_type": "stream",
     "text": [
      "\n",
      "      Epoch    GPU_mem   box_loss   cls_loss   dfl_loss  Instances       Size\n"
     ]
    },
    {
     "name": "stderr",
     "output_type": "stream",
     "text": [
      "     23/100      2.07G      2.098      4.026      1.884          9        640: 100%|██████████| 2/2 [00:00<00:00,  4.09i\n",
      "                 Class     Images  Instances      Box(P          R      mAP50  mAP50-95): 100%|██████████| 1/1 [00:00<00"
     ]
    },
    {
     "name": "stdout",
     "output_type": "stream",
     "text": [
      "                   all         27         16    0.00148       0.75     0.0936     0.0267\n"
     ]
    },
    {
     "name": "stderr",
     "output_type": "stream",
     "text": [
      "\n"
     ]
    },
    {
     "name": "stdout",
     "output_type": "stream",
     "text": [
      "\n",
      "      Epoch    GPU_mem   box_loss   cls_loss   dfl_loss  Instances       Size\n"
     ]
    },
    {
     "name": "stderr",
     "output_type": "stream",
     "text": [
      "     24/100      2.07G      2.367      4.242      1.825         11        640: 100%|██████████| 2/2 [00:00<00:00,  4.54i\n",
      "                 Class     Images  Instances      Box(P          R      mAP50  mAP50-95): 100%|██████████| 1/1 [00:00<00"
     ]
    },
    {
     "name": "stdout",
     "output_type": "stream",
     "text": [
      "                   all         27         16     0.0016      0.812     0.0622     0.0219\n"
     ]
    },
    {
     "name": "stderr",
     "output_type": "stream",
     "text": [
      "\n"
     ]
    },
    {
     "name": "stdout",
     "output_type": "stream",
     "text": [
      "\n",
      "      Epoch    GPU_mem   box_loss   cls_loss   dfl_loss  Instances       Size\n"
     ]
    },
    {
     "name": "stderr",
     "output_type": "stream",
     "text": [
      "     25/100      2.07G       1.92      3.967       1.74         14        640: 100%|██████████| 2/2 [00:00<00:00,  4.57i\n",
      "                 Class     Images  Instances      Box(P          R      mAP50  mAP50-95): 100%|██████████| 1/1 [00:00<00\n"
     ]
    },
    {
     "name": "stdout",
     "output_type": "stream",
     "text": [
      "                   all         27         16    0.00148       0.75      0.162     0.0562\n",
      "\n",
      "      Epoch    GPU_mem   box_loss   cls_loss   dfl_loss  Instances       Size\n"
     ]
    },
    {
     "name": "stderr",
     "output_type": "stream",
     "text": [
      "     26/100      2.07G      2.015      3.909      1.935         11        640: 100%|██████████| 2/2 [00:00<00:00,  4.37i\n",
      "                 Class     Images  Instances      Box(P          R      mAP50  mAP50-95): 100%|██████████| 1/1 [00:00<00\n"
     ]
    },
    {
     "name": "stdout",
     "output_type": "stream",
     "text": [
      "                   all         27         16    0.00148       0.75      0.268     0.0657\n",
      "\n",
      "      Epoch    GPU_mem   box_loss   cls_loss   dfl_loss  Instances       Size\n"
     ]
    },
    {
     "name": "stderr",
     "output_type": "stream",
     "text": [
      "     27/100      2.07G      2.151      4.249      1.803         12        640: 100%|██████████| 2/2 [00:00<00:00,  4.61i\n",
      "                 Class     Images  Instances      Box(P          R      mAP50  mAP50-95): 100%|██████████| 1/1 [00:00<00\n"
     ]
    },
    {
     "name": "stdout",
     "output_type": "stream",
     "text": [
      "                   all         27         16    0.00148       0.75     0.0279       0.01\n",
      "\n",
      "      Epoch    GPU_mem   box_loss   cls_loss   dfl_loss  Instances       Size\n"
     ]
    },
    {
     "name": "stderr",
     "output_type": "stream",
     "text": [
      "     28/100      2.05G      2.122      4.212      1.827         14        640: 100%|██████████| 2/2 [00:00<00:00,  4.75i\n",
      "                 Class     Images  Instances      Box(P          R      mAP50  mAP50-95): 100%|██████████| 1/1 [00:00<00"
     ]
    },
    {
     "name": "stdout",
     "output_type": "stream",
     "text": [
      "                   all         27         16    0.00148       0.75     0.0279       0.01\n"
     ]
    },
    {
     "name": "stderr",
     "output_type": "stream",
     "text": [
      "\n"
     ]
    },
    {
     "name": "stdout",
     "output_type": "stream",
     "text": [
      "\n",
      "      Epoch    GPU_mem   box_loss   cls_loss   dfl_loss  Instances       Size\n"
     ]
    },
    {
     "name": "stderr",
     "output_type": "stream",
     "text": [
      "     29/100      2.06G      1.936      3.661      1.784         13        640: 100%|██████████| 2/2 [00:00<00:00,  4.79i\n",
      "                 Class     Images  Instances      Box(P          R      mAP50  mAP50-95): 100%|██████████| 1/1 [00:00<00\n"
     ]
    },
    {
     "name": "stdout",
     "output_type": "stream",
     "text": [
      "                   all         27         16    0.00148       0.75     0.0255    0.00952\n",
      "\n",
      "      Epoch    GPU_mem   box_loss   cls_loss   dfl_loss  Instances       Size\n"
     ]
    },
    {
     "name": "stderr",
     "output_type": "stream",
     "text": [
      "     30/100      2.08G      2.246      3.528      1.901         12        640: 100%|██████████| 2/2 [00:00<00:00,  4.47i\n",
      "                 Class     Images  Instances      Box(P          R      mAP50  mAP50-95): 100%|██████████| 1/1 [00:00<00"
     ]
    },
    {
     "name": "stdout",
     "output_type": "stream",
     "text": [
      "                   all         27         16    0.00136      0.688     0.0288     0.0119\n"
     ]
    },
    {
     "name": "stderr",
     "output_type": "stream",
     "text": [
      "\n"
     ]
    },
    {
     "name": "stdout",
     "output_type": "stream",
     "text": [
      "\n",
      "      Epoch    GPU_mem   box_loss   cls_loss   dfl_loss  Instances       Size\n"
     ]
    },
    {
     "name": "stderr",
     "output_type": "stream",
     "text": [
      "     31/100      2.06G      1.742      3.718      1.699         11        640: 100%|██████████| 2/2 [00:00<00:00,  5.51i\n",
      "                 Class     Images  Instances      Box(P          R      mAP50  mAP50-95): 100%|██████████| 1/1 [00:00<00"
     ]
    },
    {
     "name": "stdout",
     "output_type": "stream",
     "text": [
      "                   all         27         16    0.00136      0.688     0.0288     0.0119\n"
     ]
    },
    {
     "name": "stderr",
     "output_type": "stream",
     "text": [
      "\n"
     ]
    },
    {
     "name": "stdout",
     "output_type": "stream",
     "text": [
      "\n",
      "      Epoch    GPU_mem   box_loss   cls_loss   dfl_loss  Instances       Size\n"
     ]
    },
    {
     "name": "stderr",
     "output_type": "stream",
     "text": [
      "     32/100      2.06G      1.839      3.681      1.757         11        640: 100%|██████████| 2/2 [00:00<00:00,  4.37i\n",
      "                 Class     Images  Instances      Box(P          R      mAP50  mAP50-95): 100%|██████████| 1/1 [00:00<00"
     ]
    },
    {
     "name": "stdout",
     "output_type": "stream",
     "text": [
      "                   all         27         16    0.00136      0.688     0.0714     0.0299\n"
     ]
    },
    {
     "name": "stderr",
     "output_type": "stream",
     "text": [
      "\n"
     ]
    },
    {
     "name": "stdout",
     "output_type": "stream",
     "text": [
      "\n",
      "      Epoch    GPU_mem   box_loss   cls_loss   dfl_loss  Instances       Size\n"
     ]
    },
    {
     "name": "stderr",
     "output_type": "stream",
     "text": [
      "     33/100      2.07G      1.815      4.182       1.69          6        640: 100%|██████████| 2/2 [00:00<00:00,  4.23i\n",
      "                 Class     Images  Instances      Box(P          R      mAP50  mAP50-95): 100%|██████████| 1/1 [00:00<00"
     ]
    },
    {
     "name": "stdout",
     "output_type": "stream",
     "text": [
      "                   all         27         16    0.00136      0.688     0.0537     0.0167\n"
     ]
    },
    {
     "name": "stderr",
     "output_type": "stream",
     "text": [
      "\n"
     ]
    },
    {
     "name": "stdout",
     "output_type": "stream",
     "text": [
      "\n",
      "      Epoch    GPU_mem   box_loss   cls_loss   dfl_loss  Instances       Size\n"
     ]
    },
    {
     "name": "stderr",
     "output_type": "stream",
     "text": [
      "     34/100      2.05G      1.881      3.546      1.776         13        640: 100%|██████████| 2/2 [00:00<00:00,  5.11i\n",
      "                 Class     Images  Instances      Box(P          R      mAP50  mAP50-95): 100%|██████████| 1/1 [00:00<00"
     ]
    },
    {
     "name": "stdout",
     "output_type": "stream",
     "text": [
      "                   all         27         16    0.00136      0.688     0.0537     0.0167\n"
     ]
    },
    {
     "name": "stderr",
     "output_type": "stream",
     "text": [
      "\n"
     ]
    },
    {
     "name": "stdout",
     "output_type": "stream",
     "text": [
      "\n",
      "      Epoch    GPU_mem   box_loss   cls_loss   dfl_loss  Instances       Size\n"
     ]
    },
    {
     "name": "stderr",
     "output_type": "stream",
     "text": [
      "     35/100      2.06G      1.987      4.117      1.865          8        640: 100%|██████████| 2/2 [00:00<00:00,  4.15i\n",
      "                 Class     Images  Instances      Box(P          R      mAP50  mAP50-95): 100%|██████████| 1/1 [00:00<00"
     ]
    },
    {
     "name": "stdout",
     "output_type": "stream",
     "text": [
      "                   all         27         16    0.00148       0.75    0.00906    0.00322\n"
     ]
    },
    {
     "name": "stderr",
     "output_type": "stream",
     "text": [
      "\n"
     ]
    },
    {
     "name": "stdout",
     "output_type": "stream",
     "text": [
      "\n",
      "      Epoch    GPU_mem   box_loss   cls_loss   dfl_loss  Instances       Size\n"
     ]
    },
    {
     "name": "stderr",
     "output_type": "stream",
     "text": [
      "     36/100      2.07G      2.063      3.559      1.784         13        640: 100%|██████████| 2/2 [00:00<00:00,  4.94i\n",
      "                 Class     Images  Instances      Box(P          R      mAP50  mAP50-95): 100%|██████████| 1/1 [00:00<00"
     ]
    },
    {
     "name": "stdout",
     "output_type": "stream",
     "text": [
      "                   all         27         16    0.00136      0.688     0.0212    0.00513\n"
     ]
    },
    {
     "name": "stderr",
     "output_type": "stream",
     "text": [
      "\n"
     ]
    },
    {
     "name": "stdout",
     "output_type": "stream",
     "text": [
      "\n",
      "      Epoch    GPU_mem   box_loss   cls_loss   dfl_loss  Instances       Size\n"
     ]
    },
    {
     "name": "stderr",
     "output_type": "stream",
     "text": [
      "     37/100      2.05G      1.867      3.426      1.683         13        640: 100%|██████████| 2/2 [00:00<00:00,  4.91i\n",
      "                 Class     Images  Instances      Box(P          R      mAP50  mAP50-95): 100%|██████████| 1/1 [00:00<00"
     ]
    },
    {
     "name": "stdout",
     "output_type": "stream",
     "text": [
      "                   all         27         16    0.00136      0.688     0.0212    0.00513\n"
     ]
    },
    {
     "name": "stderr",
     "output_type": "stream",
     "text": [
      "\n"
     ]
    },
    {
     "name": "stdout",
     "output_type": "stream",
     "text": [
      "\n",
      "      Epoch    GPU_mem   box_loss   cls_loss   dfl_loss  Instances       Size\n"
     ]
    },
    {
     "name": "stderr",
     "output_type": "stream",
     "text": [
      "     38/100      2.06G      1.888      3.682       1.68         11        640: 100%|██████████| 2/2 [00:00<00:00,  4.47i\n",
      "                 Class     Images  Instances      Box(P          R      mAP50  mAP50-95): 100%|██████████| 1/1 [00:00<00"
     ]
    },
    {
     "name": "stdout",
     "output_type": "stream",
     "text": [
      "                   all         27         16    0.00148       0.75     0.0286    0.00806\n"
     ]
    },
    {
     "name": "stderr",
     "output_type": "stream",
     "text": [
      "\n"
     ]
    },
    {
     "name": "stdout",
     "output_type": "stream",
     "text": [
      "\n",
      "      Epoch    GPU_mem   box_loss   cls_loss   dfl_loss  Instances       Size\n"
     ]
    },
    {
     "name": "stderr",
     "output_type": "stream",
     "text": [
      "     39/100      2.07G      1.799      4.066      1.651          6        640: 100%|██████████| 2/2 [00:00<00:00, -4.23i\n",
      "                 Class     Images  Instances      Box(P          R      mAP50  mAP50-95): 100%|██████████| 1/1 [00:00<00"
     ]
    },
    {
     "name": "stdout",
     "output_type": "stream",
     "text": [
      "                   all         27         16    0.00148       0.75     0.0796     0.0172\n"
     ]
    },
    {
     "name": "stderr",
     "output_type": "stream",
     "text": [
      "\n"
     ]
    },
    {
     "name": "stdout",
     "output_type": "stream",
     "text": [
      "\n",
      "      Epoch    GPU_mem   box_loss   cls_loss   dfl_loss  Instances       Size\n"
     ]
    },
    {
     "name": "stderr",
     "output_type": "stream",
     "text": [
      "     40/100      2.06G      1.823      3.838       1.74          8        640: 100%|██████████| 2/2 [00:00<00:00,  4.45i\n",
      "                 Class     Images  Instances      Box(P          R      mAP50  mAP50-95): 100%|██████████| 1/1 [00:00<00"
     ]
    },
    {
     "name": "stdout",
     "output_type": "stream",
     "text": [
      "                   all         27         16    0.00148       0.75     0.0796     0.0172\n"
     ]
    },
    {
     "name": "stderr",
     "output_type": "stream",
     "text": [
      "\n"
     ]
    },
    {
     "name": "stdout",
     "output_type": "stream",
     "text": [
      "\n",
      "      Epoch    GPU_mem   box_loss   cls_loss   dfl_loss  Instances       Size\n"
     ]
    },
    {
     "name": "stderr",
     "output_type": "stream",
     "text": [
      "     41/100      2.06G      1.641      4.011      1.592          5        640: 100%|██████████| 2/2 [00:00<00:00,  4.39i\n",
      "                 Class     Images  Instances      Box(P          R      mAP50  mAP50-95): 100%|██████████| 1/1 [00:00<00"
     ]
    },
    {
     "name": "stdout",
     "output_type": "stream",
     "text": [
      "                   all         27         16    0.00148       0.75       0.15      0.047\n"
     ]
    },
    {
     "name": "stderr",
     "output_type": "stream",
     "text": [
      "\n"
     ]
    },
    {
     "name": "stdout",
     "output_type": "stream",
     "text": [
      "\n",
      "      Epoch    GPU_mem   box_loss   cls_loss   dfl_loss  Instances       Size\n"
     ]
    },
    {
     "name": "stderr",
     "output_type": "stream",
     "text": [
      "     42/100      2.07G      2.013      3.615      1.843         12        640: 100%|██████████| 2/2 [00:00<00:00,  4.17i\n",
      "                 Class     Images  Instances      Box(P          R      mAP50  mAP50-95): 100%|██████████| 1/1 [00:00<00"
     ]
    },
    {
     "name": "stdout",
     "output_type": "stream",
     "text": [
      "                   all         27         16     0.0016      0.812      0.215     0.0555\n"
     ]
    },
    {
     "name": "stderr",
     "output_type": "stream",
     "text": [
      "\n"
     ]
    },
    {
     "name": "stdout",
     "output_type": "stream",
     "text": [
      "\n",
      "      Epoch    GPU_mem   box_loss   cls_loss   dfl_loss  Instances       Size\n"
     ]
    },
    {
     "name": "stderr",
     "output_type": "stream",
     "text": [
      "     43/100      2.06G      1.928      3.692      1.765          8        640: 100%|██████████| 2/2 [00:00<00:00,  4.33i\n",
      "                 Class     Images  Instances      Box(P          R      mAP50  mAP50-95): 100%|██████████| 1/1 [00:00<00"
     ]
    },
    {
     "name": "stdout",
     "output_type": "stream",
     "text": [
      "                   all         27         16     0.0016      0.812      0.215     0.0555\n"
     ]
    },
    {
     "name": "stderr",
     "output_type": "stream",
     "text": [
      "\n"
     ]
    },
    {
     "name": "stdout",
     "output_type": "stream",
     "text": [
      "\n",
      "      Epoch    GPU_mem   box_loss   cls_loss   dfl_loss  Instances       Size\n"
     ]
    },
    {
     "name": "stderr",
     "output_type": "stream",
     "text": [
      "     44/100      2.06G      2.013      3.953      1.761         12        640: 100%|██████████| 2/2 [00:00<00:00,  4.40i\n",
      "                 Class     Images  Instances      Box(P          R      mAP50  mAP50-95): 100%|██████████| 1/1 [00:00<00"
     ]
    },
    {
     "name": "stdout",
     "output_type": "stream",
     "text": [
      "                   all         27         16    0.00185      0.938      0.159     0.0347\n"
     ]
    },
    {
     "name": "stderr",
     "output_type": "stream",
     "text": [
      "\n"
     ]
    },
    {
     "name": "stdout",
     "output_type": "stream",
     "text": [
      "\n",
      "      Epoch    GPU_mem   box_loss   cls_loss   dfl_loss  Instances       Size\n"
     ]
    },
    {
     "name": "stderr",
     "output_type": "stream",
     "text": [
      "     45/100      2.06G      2.002      3.486      1.801         10        640: 100%|██████████| 2/2 [00:00<00:00,  4.72i\n",
      "                 Class     Images  Instances      Box(P          R      mAP50  mAP50-95): 100%|██████████| 1/1 [00:00<00"
     ]
    },
    {
     "name": "stdout",
     "output_type": "stream",
     "text": [
      "                   all         27         16    0.00185      0.938      0.159     0.0347\n"
     ]
    },
    {
     "name": "stderr",
     "output_type": "stream",
     "text": [
      "\n"
     ]
    },
    {
     "name": "stdout",
     "output_type": "stream",
     "text": [
      "\n",
      "      Epoch    GPU_mem   box_loss   cls_loss   dfl_loss  Instances       Size\n"
     ]
    },
    {
     "name": "stderr",
     "output_type": "stream",
     "text": [
      "     46/100      2.06G      1.972      4.652      1.845          5        640: 100%|██████████| 2/2 [00:00<00:00,  4.28i\n",
      "                 Class     Images  Instances      Box(P          R      mAP50  mAP50-95): 100%|██████████| 1/1 [00:00<00"
     ]
    },
    {
     "name": "stdout",
     "output_type": "stream",
     "text": [
      "                   all         27         16    0.00185      0.938      0.178     0.0433\n"
     ]
    },
    {
     "name": "stderr",
     "output_type": "stream",
     "text": [
      "\n"
     ]
    },
    {
     "name": "stdout",
     "output_type": "stream",
     "text": [
      "\n",
      "      Epoch    GPU_mem   box_loss   cls_loss   dfl_loss  Instances       Size\n"
     ]
    },
    {
     "name": "stderr",
     "output_type": "stream",
     "text": [
      "     47/100      2.06G      1.684      3.332      1.628         12        640: 100%|██████████| 2/2 [00:00<00:00,  4.61i\n",
      "                 Class     Images  Instances      Box(P          R      mAP50  mAP50-95): 100%|██████████| 1/1 [00:00<00\n"
     ]
    },
    {
     "name": "stdout",
     "output_type": "stream",
     "text": [
      "                   all         27         16    0.00185      0.938      0.178     0.0433\n",
      "\n",
      "      Epoch    GPU_mem   box_loss   cls_loss   dfl_loss  Instances       Size\n"
     ]
    },
    {
     "name": "stderr",
     "output_type": "stream",
     "text": [
      "     48/100      2.06G      1.699       3.44      1.557         10        640: 100%|██████████| 2/2 [00:00<00:00,  4.09i\n",
      "                 Class     Images  Instances      Box(P          R      mAP50  mAP50-95): 100%|██████████| 1/1 [00:00<00"
     ]
    },
    {
     "name": "stdout",
     "output_type": "stream",
     "text": [
      "                   all         27         16    0.00173      0.875      0.239     0.0807\n"
     ]
    },
    {
     "name": "stderr",
     "output_type": "stream",
     "text": [
      "\n"
     ]
    },
    {
     "name": "stdout",
     "output_type": "stream",
     "text": [
      "\n",
      "      Epoch    GPU_mem   box_loss   cls_loss   dfl_loss  Instances       Size\n"
     ]
    },
    {
     "name": "stderr",
     "output_type": "stream",
     "text": [
      "     49/100      2.05G      1.743      2.976      1.585         16        640: 100%|██████████| 2/2 [00:00<00:00,  4.78i\n",
      "                 Class     Images  Instances      Box(P          R      mAP50  mAP50-95): 100%|██████████| 1/1 [00:00<00"
     ]
    },
    {
     "name": "stdout",
     "output_type": "stream",
     "text": [
      "                   all         27         16    0.00173      0.875      0.239     0.0807\n"
     ]
    },
    {
     "name": "stderr",
     "output_type": "stream",
     "text": [
      "\n"
     ]
    },
    {
     "name": "stdout",
     "output_type": "stream",
     "text": [
      "\n",
      "      Epoch    GPU_mem   box_loss   cls_loss   dfl_loss  Instances       Size\n"
     ]
    },
    {
     "name": "stderr",
     "output_type": "stream",
     "text": [
      "     50/100      2.06G       1.64      3.457        1.5         11        640: 100%|██████████| 2/2 [00:00<00:00,  4.16i\n",
      "                 Class     Images  Instances      Box(P          R      mAP50  mAP50-95): 100%|██████████| 1/1 [00:00<00"
     ]
    },
    {
     "name": "stdout",
     "output_type": "stream",
     "text": [
      "                   all         27         16    0.00895       0.75      0.276      0.119\n"
     ]
    },
    {
     "name": "stderr",
     "output_type": "stream",
     "text": [
      "\n"
     ]
    },
    {
     "name": "stdout",
     "output_type": "stream",
     "text": [
      "\n",
      "      Epoch    GPU_mem   box_loss   cls_loss   dfl_loss  Instances       Size\n"
     ]
    },
    {
     "name": "stderr",
     "output_type": "stream",
     "text": [
      "     51/100      2.05G      1.668       3.17      1.629          9        640: 100%|██████████| 2/2 [00:00<00:00,  4.66i\n",
      "                 Class     Images  Instances      Box(P          R      mAP50  mAP50-95): 100%|██████████| 1/1 [00:00<00"
     ]
    },
    {
     "name": "stdout",
     "output_type": "stream",
     "text": [
      "                   all         27         16    0.00895       0.75      0.276      0.119\n"
     ]
    },
    {
     "name": "stderr",
     "output_type": "stream",
     "text": [
      "\n"
     ]
    },
    {
     "name": "stdout",
     "output_type": "stream",
     "text": [
      "\n",
      "      Epoch    GPU_mem   box_loss   cls_loss   dfl_loss  Instances       Size\n"
     ]
    },
    {
     "name": "stderr",
     "output_type": "stream",
     "text": [
      "     52/100      2.06G      1.633      3.085      1.579         13        640: 100%|██████████| 2/2 [00:00<00:00,  4.09i\n",
      "                 Class     Images  Instances      Box(P          R      mAP50  mAP50-95): 100%|██████████| 1/1 [00:00<00"
     ]
    },
    {
     "name": "stdout",
     "output_type": "stream",
     "text": [
      "                   all         27         16      0.323      0.625      0.366      0.151\n"
     ]
    },
    {
     "name": "stderr",
     "output_type": "stream",
     "text": [
      "\n"
     ]
    },
    {
     "name": "stdout",
     "output_type": "stream",
     "text": [
      "\n",
      "      Epoch    GPU_mem   box_loss   cls_loss   dfl_loss  Instances       Size\n"
     ]
    },
    {
     "name": "stderr",
     "output_type": "stream",
     "text": [
      "     53/100      2.06G      1.649      3.028      1.557         12        640: 100%|██████████| 2/2 [00:00<00:00,  4.92i\n",
      "                 Class     Images  Instances      Box(P          R      mAP50  mAP50-95): 100%|██████████| 1/1 [00:00<00"
     ]
    },
    {
     "name": "stdout",
     "output_type": "stream",
     "text": [
      "                   all         27         16      0.323      0.625      0.366      0.151\n"
     ]
    },
    {
     "name": "stderr",
     "output_type": "stream",
     "text": [
      "\n"
     ]
    },
    {
     "name": "stdout",
     "output_type": "stream",
     "text": [
      "\n",
      "      Epoch    GPU_mem   box_loss   cls_loss   dfl_loss  Instances       Size\n"
     ]
    },
    {
     "name": "stderr",
     "output_type": "stream",
     "text": [
      "     54/100      2.06G      1.766      3.818      1.771          7        640: 100%|██████████| 2/2 [00:00<00:00,  4.41i\n",
      "                 Class     Images  Instances      Box(P          R      mAP50  mAP50-95): 100%|██████████| 1/1 [00:00<00"
     ]
    },
    {
     "name": "stdout",
     "output_type": "stream",
     "text": [
      "                   all         27         16      0.322      0.438      0.309      0.135\n"
     ]
    },
    {
     "name": "stderr",
     "output_type": "stream",
     "text": [
      "\n"
     ]
    },
    {
     "name": "stdout",
     "output_type": "stream",
     "text": [
      "\n",
      "      Epoch    GPU_mem   box_loss   cls_loss   dfl_loss  Instances       Size\n"
     ]
    },
    {
     "name": "stderr",
     "output_type": "stream",
     "text": [
      "     55/100      2.06G      1.724      3.542      1.634          6        640: 100%|██████████| 2/2 [00:00<00:00,  4.51i\n",
      "                 Class     Images  Instances      Box(P          R      mAP50  mAP50-95): 100%|██████████| 1/1 [00:00<00"
     ]
    },
    {
     "name": "stdout",
     "output_type": "stream",
     "text": [
      "                   all         27         16      0.322      0.438      0.309      0.135\n"
     ]
    },
    {
     "name": "stderr",
     "output_type": "stream",
     "text": [
      "\n"
     ]
    },
    {
     "name": "stdout",
     "output_type": "stream",
     "text": [
      "\n",
      "      Epoch    GPU_mem   box_loss   cls_loss   dfl_loss  Instances       Size\n"
     ]
    },
    {
     "name": "stderr",
     "output_type": "stream",
     "text": [
      "     56/100      2.06G      1.791      3.806      1.593         13        640: 100%|██████████| 2/2 [00:00<00:00,  4.63i\n",
      "                 Class     Images  Instances      Box(P          R      mAP50  mAP50-95): 100%|██████████| 1/1 [00:00<00\n"
     ]
    },
    {
     "name": "stdout",
     "output_type": "stream",
     "text": [
      "                   all         27         16      0.175      0.688      0.284      0.125\n",
      "\n",
      "      Epoch    GPU_mem   box_loss   cls_loss   dfl_loss  Instances       Size\n"
     ]
    },
    {
     "name": "stderr",
     "output_type": "stream",
     "text": [
      "     57/100      2.05G      1.671      2.992      1.604         16        640: 100%|██████████| 2/2 [00:00<00:00,  5.08i\n",
      "                 Class     Images  Instances      Box(P          R      mAP50  mAP50-95): 100%|██████████| 1/1 [00:00<00"
     ]
    },
    {
     "name": "stdout",
     "output_type": "stream",
     "text": [
      "                   all         27         16      0.175      0.688      0.284      0.125\n"
     ]
    },
    {
     "name": "stderr",
     "output_type": "stream",
     "text": [
      "\n"
     ]
    },
    {
     "name": "stdout",
     "output_type": "stream",
     "text": [
      "\n",
      "      Epoch    GPU_mem   box_loss   cls_loss   dfl_loss  Instances       Size\n"
     ]
    },
    {
     "name": "stderr",
     "output_type": "stream",
     "text": [
      "     58/100      2.06G      1.627      3.188       1.65         11        640: 100%|██████████| 2/2 [00:00<00:00,  4.42i\n",
      "                 Class     Images  Instances      Box(P          R      mAP50  mAP50-95): 100%|██████████| 1/1 [00:00<00\n"
     ]
    },
    {
     "name": "stdout",
     "output_type": "stream",
     "text": [
      "                   all         27         16      0.143      0.625      0.416      0.148\n",
      "\n",
      "      Epoch    GPU_mem   box_loss   cls_loss   dfl_loss  Instances       Size\n"
     ]
    },
    {
     "name": "stderr",
     "output_type": "stream",
     "text": [
      "     59/100      2.06G      1.635      3.463      1.545          9        640: 100%|██████████| 2/2 [00:00<00:00,  4.54i\n",
      "                 Class     Images  Instances      Box(P          R      mAP50  mAP50-95): 100%|██████████| 1/1 [00:00<00"
     ]
    },
    {
     "name": "stdout",
     "output_type": "stream",
     "text": [
      "                   all         27         16      0.143      0.625      0.416      0.148\n"
     ]
    },
    {
     "name": "stderr",
     "output_type": "stream",
     "text": [
      "\n"
     ]
    },
    {
     "name": "stdout",
     "output_type": "stream",
     "text": [
      "\n",
      "      Epoch    GPU_mem   box_loss   cls_loss   dfl_loss  Instances       Size\n"
     ]
    },
    {
     "name": "stderr",
     "output_type": "stream",
     "text": [
      "     60/100      2.06G      1.859       3.52      1.663          8        640: 100%|██████████| 2/2 [00:00<00:00,  4.42i\n",
      "                 Class     Images  Instances      Box(P          R      mAP50  mAP50-95): 100%|██████████| 1/1 [00:00<00"
     ]
    },
    {
     "name": "stdout",
     "output_type": "stream",
     "text": [
      "                   all         27         16      0.171      0.625      0.442      0.172\n"
     ]
    },
    {
     "name": "stderr",
     "output_type": "stream",
     "text": [
      "\n"
     ]
    },
    {
     "name": "stdout",
     "output_type": "stream",
     "text": [
      "\n",
      "      Epoch    GPU_mem   box_loss   cls_loss   dfl_loss  Instances       Size\n"
     ]
    },
    {
     "name": "stderr",
     "output_type": "stream",
     "text": [
      "     61/100      2.05G      1.715      3.322       1.69         12        640: 100%|██████████| 2/2 [00:00<00:00,  4.46i\n",
      "                 Class     Images  Instances      Box(P          R      mAP50  mAP50-95): 100%|██████████| 1/1 [00:00<00"
     ]
    },
    {
     "name": "stdout",
     "output_type": "stream",
     "text": [
      "                   all         27         16      0.171      0.625      0.442      0.172\n"
     ]
    },
    {
     "name": "stderr",
     "output_type": "stream",
     "text": [
      "\n"
     ]
    },
    {
     "name": "stdout",
     "output_type": "stream",
     "text": [
      "\n",
      "      Epoch    GPU_mem   box_loss   cls_loss   dfl_loss  Instances       Size\n"
     ]
    },
    {
     "name": "stderr",
     "output_type": "stream",
     "text": [
      "     62/100      2.06G      1.693      3.335      1.575         11        640: 100%|██████████| 2/2 [00:00<00:00,  5.05i\n",
      "                 Class     Images  Instances      Box(P          R      mAP50  mAP50-95): 100%|██████████| 1/1 [00:00<00"
     ]
    },
    {
     "name": "stdout",
     "output_type": "stream",
     "text": [
      "                   all         27         16        0.2      0.562      0.385      0.173\n"
     ]
    },
    {
     "name": "stderr",
     "output_type": "stream",
     "text": [
      "\n"
     ]
    },
    {
     "name": "stdout",
     "output_type": "stream",
     "text": [
      "\n",
      "      Epoch    GPU_mem   box_loss   cls_loss   dfl_loss  Instances       Size\n"
     ]
    },
    {
     "name": "stderr",
     "output_type": "stream",
     "text": [
      "     63/100      2.05G       1.81      3.643      1.597         10        640: 100%|██████████| 2/2 [00:00<00:00,  4.93i\n",
      "                 Class     Images  Instances      Box(P          R      mAP50  mAP50-95): 100%|██████████| 1/1 [00:00<00"
     ]
    },
    {
     "name": "stdout",
     "output_type": "stream",
     "text": [
      "                   all         27         16        0.2      0.562      0.385      0.173\n"
     ]
    },
    {
     "name": "stderr",
     "output_type": "stream",
     "text": [
      "\n"
     ]
    },
    {
     "name": "stdout",
     "output_type": "stream",
     "text": [
      "\n",
      "      Epoch    GPU_mem   box_loss   cls_loss   dfl_loss  Instances       Size\n"
     ]
    },
    {
     "name": "stderr",
     "output_type": "stream",
     "text": [
      "     64/100      2.06G      1.504      2.912      1.487         13        640: 100%|██████████| 2/2 [00:00<00:00,  4.46i\n",
      "                 Class     Images  Instances      Box(P          R      mAP50  mAP50-95): 100%|██████████| 1/1 [00:00<00"
     ]
    },
    {
     "name": "stdout",
     "output_type": "stream",
     "text": [
      "                   all         27         16      0.273      0.492      0.421      0.178\n"
     ]
    },
    {
     "name": "stderr",
     "output_type": "stream",
     "text": [
      "\n"
     ]
    },
    {
     "name": "stdout",
     "output_type": "stream",
     "text": [
      "\n",
      "      Epoch    GPU_mem   box_loss   cls_loss   dfl_loss  Instances       Size\n"
     ]
    },
    {
     "name": "stderr",
     "output_type": "stream",
     "text": [
      "     65/100      2.06G      1.554      3.079      1.595         10        640: 100%|██████████| 2/2 [00:00<00:00,  4.92i\n",
      "                 Class     Images  Instances      Box(P          R      mAP50  mAP50-95): 100%|██████████| 1/1 [00:00<00"
     ]
    },
    {
     "name": "stdout",
     "output_type": "stream",
     "text": [
      "                   all         27         16      0.273      0.492      0.421      0.178\n"
     ]
    },
    {
     "name": "stderr",
     "output_type": "stream",
     "text": [
      "\n"
     ]
    },
    {
     "name": "stdout",
     "output_type": "stream",
     "text": [
      "\n",
      "      Epoch    GPU_mem   box_loss   cls_loss   dfl_loss  Instances       Size\n"
     ]
    },
    {
     "name": "stderr",
     "output_type": "stream",
     "text": [
      "     66/100      2.06G      1.743      2.861      1.518         14        640: 100%|██████████| 2/2 [00:00<00:00,  4.49i\n",
      "                 Class     Images  Instances      Box(P          R      mAP50  mAP50-95): 100%|██████████| 1/1 [00:00<00"
     ]
    },
    {
     "name": "stdout",
     "output_type": "stream",
     "text": [
      "                   all         27         16      0.258      0.438      0.388      0.167\n"
     ]
    },
    {
     "name": "stderr",
     "output_type": "stream",
     "text": [
      "\n"
     ]
    },
    {
     "name": "stdout",
     "output_type": "stream",
     "text": [
      "\n",
      "      Epoch    GPU_mem   box_loss   cls_loss   dfl_loss  Instances       Size\n"
     ]
    },
    {
     "name": "stderr",
     "output_type": "stream",
     "text": [
      "     67/100      2.05G      1.691      3.068      1.596         13        640: 100%|██████████| 2/2 [00:00<00:00,  4.72i\n",
      "                 Class     Images  Instances      Box(P          R      mAP50  mAP50-95): 100%|██████████| 1/1 [00:00<00"
     ]
    },
    {
     "name": "stdout",
     "output_type": "stream",
     "text": [
      "                   all         27         16      0.258      0.438      0.388      0.167\n"
     ]
    },
    {
     "name": "stderr",
     "output_type": "stream",
     "text": [
      "\n"
     ]
    },
    {
     "name": "stdout",
     "output_type": "stream",
     "text": [
      "\n",
      "      Epoch    GPU_mem   box_loss   cls_loss   dfl_loss  Instances       Size\n"
     ]
    },
    {
     "name": "stderr",
     "output_type": "stream",
     "text": [
      "     68/100      2.06G      1.612      3.862      1.583          5        640: 100%|██████████| 2/2 [00:00<00:00,  4.32i\n",
      "                 Class     Images  Instances      Box(P          R      mAP50  mAP50-95): 100%|██████████| 1/1 [00:00<00"
     ]
    },
    {
     "name": "stdout",
     "output_type": "stream",
     "text": [
      "                   all         27         16      0.305      0.438      0.398      0.175\n"
     ]
    },
    {
     "name": "stderr",
     "output_type": "stream",
     "text": [
      "\n"
     ]
    },
    {
     "name": "stdout",
     "output_type": "stream",
     "text": [
      "\n",
      "      Epoch    GPU_mem   box_loss   cls_loss   dfl_loss  Instances       Size\n"
     ]
    },
    {
     "name": "stderr",
     "output_type": "stream",
     "text": [
      "     69/100      2.05G      1.624      2.681      1.544         17        640: 100%|██████████| 2/2 [00:00<00:00,  4.67i\n",
      "                 Class     Images  Instances      Box(P          R      mAP50  mAP50-95): 100%|██████████| 1/1 [00:00<00"
     ]
    },
    {
     "name": "stdout",
     "output_type": "stream",
     "text": [
      "                   all         27         16      0.305      0.438      0.398      0.175\n"
     ]
    },
    {
     "name": "stderr",
     "output_type": "stream",
     "text": [
      "\n"
     ]
    },
    {
     "name": "stdout",
     "output_type": "stream",
     "text": [
      "\n",
      "      Epoch    GPU_mem   box_loss   cls_loss   dfl_loss  Instances       Size\n"
     ]
    },
    {
     "name": "stderr",
     "output_type": "stream",
     "text": [
      "     70/100      2.06G      1.624      3.242       1.49         10        640: 100%|██████████| 2/2 [00:00<00:00,  4.47i\n",
      "                 Class     Images  Instances      Box(P          R      mAP50  mAP50-95): 100%|██████████| 1/1 [00:00<00"
     ]
    },
    {
     "name": "stdout",
     "output_type": "stream",
     "text": [
      "                   all         27         16      0.319      0.438      0.367      0.169\n"
     ]
    },
    {
     "name": "stderr",
     "output_type": "stream",
     "text": [
      "\n"
     ]
    },
    {
     "name": "stdout",
     "output_type": "stream",
     "text": [
      "\n",
      "      Epoch    GPU_mem   box_loss   cls_loss   dfl_loss  Instances       Size\n"
     ]
    },
    {
     "name": "stderr",
     "output_type": "stream",
     "text": [
      "     71/100      2.05G      1.622       3.17      1.492         12        640: 100%|██████████| 2/2 [00:00<00:00,  4.72i\n",
      "                 Class     Images  Instances      Box(P          R      mAP50  mAP50-95): 100%|██████████| 1/1 [00:00<00"
     ]
    },
    {
     "name": "stdout",
     "output_type": "stream",
     "text": [
      "                   all         27         16      0.319      0.438      0.367      0.169\n"
     ]
    },
    {
     "name": "stderr",
     "output_type": "stream",
     "text": [
      "\n"
     ]
    },
    {
     "name": "stdout",
     "output_type": "stream",
     "text": [
      "\n",
      "      Epoch    GPU_mem   box_loss   cls_loss   dfl_loss  Instances       Size\n"
     ]
    },
    {
     "name": "stderr",
     "output_type": "stream",
     "text": [
      "     72/100      2.06G      1.397      3.664      1.355          7        640: 100%|██████████| 2/2 [00:00<00:00,  4.26i\n",
      "                 Class     Images  Instances      Box(P          R      mAP50  mAP50-95): 100%|██████████| 1/1 [00:00<00"
     ]
    },
    {
     "name": "stdout",
     "output_type": "stream",
     "text": [
      "                   all         27         16      0.371        0.5      0.416      0.168\n"
     ]
    },
    {
     "name": "stderr",
     "output_type": "stream",
     "text": [
      "\n"
     ]
    },
    {
     "name": "stdout",
     "output_type": "stream",
     "text": [
      "\n",
      "      Epoch    GPU_mem   box_loss   cls_loss   dfl_loss  Instances       Size\n"
     ]
    },
    {
     "name": "stderr",
     "output_type": "stream",
     "text": [
      "     73/100      2.06G      1.509      3.146      1.457         11        640: 100%|██████████| 2/2 [00:00<00:00,  4.64i\n",
      "                 Class     Images  Instances      Box(P          R      mAP50  mAP50-95): 100%|██████████| 1/1 [00:00<00"
     ]
    },
    {
     "name": "stdout",
     "output_type": "stream",
     "text": [
      "                   all         27         16      0.371        0.5      0.416      0.168\n"
     ]
    },
    {
     "name": "stderr",
     "output_type": "stream",
     "text": [
      "\n"
     ]
    },
    {
     "name": "stdout",
     "output_type": "stream",
     "text": [
      "\n",
      "      Epoch    GPU_mem   box_loss   cls_loss   dfl_loss  Instances       Size\n"
     ]
    },
    {
     "name": "stderr",
     "output_type": "stream",
     "text": [
      "     74/100      2.06G      1.619      2.813      1.528         16        640: 100%|██████████| 2/2 [00:00<00:00,  4.47i\n",
      "                 Class     Images  Instances      Box(P          R      mAP50  mAP50-95): 100%|██████████| 1/1 [00:00<00"
     ]
    },
    {
     "name": "stdout",
     "output_type": "stream",
     "text": [
      "                   all         27         16      0.392      0.525      0.504      0.232\n"
     ]
    },
    {
     "name": "stderr",
     "output_type": "stream",
     "text": [
      "\n"
     ]
    },
    {
     "name": "stdout",
     "output_type": "stream",
     "text": [
      "\n",
      "      Epoch    GPU_mem   box_loss   cls_loss   dfl_loss  Instances       Size\n"
     ]
    },
    {
     "name": "stderr",
     "output_type": "stream",
     "text": [
      "     75/100      2.06G      1.758      3.162      1.638          7        640: 100%|██████████| 2/2 [00:00<00:00,  4.44i\n",
      "                 Class     Images  Instances      Box(P          R      mAP50  mAP50-95): 100%|██████████| 1/1 [00:00<00"
     ]
    },
    {
     "name": "stdout",
     "output_type": "stream",
     "text": [
      "                   all         27         16      0.392      0.525      0.504      0.232\n"
     ]
    },
    {
     "name": "stderr",
     "output_type": "stream",
     "text": [
      "\n"
     ]
    },
    {
     "name": "stdout",
     "output_type": "stream",
     "text": [
      "\n",
      "      Epoch    GPU_mem   box_loss   cls_loss   dfl_loss  Instances       Size\n"
     ]
    },
    {
     "name": "stderr",
     "output_type": "stream",
     "text": [
      "     76/100      2.06G      1.766      3.425      1.619          9        640: 100%|██████████| 2/2 [00:00<00:00,  4.12i\n",
      "                 Class     Images  Instances      Box(P          R      mAP50  mAP50-95): 100%|██████████| 1/1 [00:00<00"
     ]
    },
    {
     "name": "stdout",
     "output_type": "stream",
     "text": [
      "                   all         27         16      0.397      0.562      0.585      0.274\n"
     ]
    },
    {
     "name": "stderr",
     "output_type": "stream",
     "text": [
      "\n"
     ]
    },
    {
     "name": "stdout",
     "output_type": "stream",
     "text": [
      "\n",
      "      Epoch    GPU_mem   box_loss   cls_loss   dfl_loss  Instances       Size\n"
     ]
    },
    {
     "name": "stderr",
     "output_type": "stream",
     "text": [
      "     77/100      2.06G       1.62      2.921      1.543         11        640: 100%|██████████| 2/2 [00:00<00:00,  4.20i\n",
      "                 Class     Images  Instances      Box(P          R      mAP50  mAP50-95): 100%|██████████| 1/1 [00:00<00\n"
     ]
    },
    {
     "name": "stdout",
     "output_type": "stream",
     "text": [
      "                   all         27         16      0.397      0.562      0.585      0.274\n",
      "\n",
      "      Epoch    GPU_mem   box_loss   cls_loss   dfl_loss  Instances       Size\n"
     ]
    },
    {
     "name": "stderr",
     "output_type": "stream",
     "text": [
      "     78/100      2.06G      1.499      2.716      1.457         17        640: 100%|██████████| 2/2 [00:00<00:00,  4.08i\n",
      "                 Class     Images  Instances      Box(P          R      mAP50  mAP50-95): 100%|██████████| 1/1 [00:00<00"
     ]
    },
    {
     "name": "stdout",
     "output_type": "stream",
     "text": [
      "                   all         27         16      0.401      0.562        0.6       0.28\n"
     ]
    },
    {
     "name": "stderr",
     "output_type": "stream",
     "text": [
      "\n"
     ]
    },
    {
     "name": "stdout",
     "output_type": "stream",
     "text": [
      "\n",
      "      Epoch    GPU_mem   box_loss   cls_loss   dfl_loss  Instances       Size\n"
     ]
    },
    {
     "name": "stderr",
     "output_type": "stream",
     "text": [
      "     79/100      2.06G      1.475      3.289      1.549         11        640: 100%|██████████| 2/2 [00:00<00:00,  4.64i\n",
      "                 Class     Images  Instances      Box(P          R      mAP50  mAP50-95): 100%|██████████| 1/1 [00:00<00"
     ]
    },
    {
     "name": "stdout",
     "output_type": "stream",
     "text": [
      "                   all         27         16      0.401      0.562        0.6       0.28\n"
     ]
    },
    {
     "name": "stderr",
     "output_type": "stream",
     "text": [
      "\n"
     ]
    },
    {
     "name": "stdout",
     "output_type": "stream",
     "text": [
      "\n",
      "      Epoch    GPU_mem   box_loss   cls_loss   dfl_loss  Instances       Size\n"
     ]
    },
    {
     "name": "stderr",
     "output_type": "stream",
     "text": [
      "     80/100      2.06G      1.433      2.596      1.423         13        640: 100%|██████████| 2/2 [00:00<00:00,  4.47i\n",
      "                 Class     Images  Instances      Box(P          R      mAP50  mAP50-95): 100%|██████████| 1/1 [00:00<00"
     ]
    },
    {
     "name": "stdout",
     "output_type": "stream",
     "text": [
      "                   all         27         16      0.318      0.562       0.59      0.288\n"
     ]
    }
   ],
   "source": [
    "results = model.train(\n",
    "    data=YOLO_TRAIN_YAML, \n",
    "    epochs=10, imgsz=640, device=[0])"
   ]
  },
  {
   "cell_type": "code",
   "execution_count": null,
   "id": "68fc01c3-4586-4064-b4cd-52f74ce9b6b1",
   "metadata": {},
   "outputs": [],
   "source": [
    "TEST_IMG = '/home/scott/NOAA/research/nodd-tools/pynoddgcs/data/download/yolo_training_data/annotations/images/data_annotations_viame_video_sample_2025_01_13.mp4.00.00.03.200000.jpg'"
   ]
  },
  {
   "cell_type": "code",
   "execution_count": null,
   "id": "15602342-f7ca-4bb3-a418-831d2b1042b8",
   "metadata": {},
   "outputs": [],
   "source": [
    "trained_model = YOLO(\n",
    "    YOLO_YAML\n",
    ").load(\"../runs/detect/train7/weights/best.pt\")"
   ]
  },
  {
   "cell_type": "code",
   "execution_count": null,
   "id": "237e73e2-9a5c-4cf0-8675-b405ca8acb87",
   "metadata": {},
   "outputs": [],
   "source": [
    "predictions = trained_model.predict(TEST_IMG, verbose=False, device=[0], stream=True)"
   ]
  },
  {
   "cell_type": "code",
   "execution_count": null,
   "id": "874aa999-fae9-406e-9002-fd324e9088e3",
   "metadata": {},
   "outputs": [],
   "source": [
    "prediction = next(predictions)"
   ]
  },
  {
   "cell_type": "code",
   "execution_count": null,
   "id": "a759c893-c3d1-4f7d-87ac-ffa046abf0cb",
   "metadata": {},
   "outputs": [],
   "source": [
    "prediction.show()"
   ]
  },
  {
   "cell_type": "code",
   "execution_count": null,
   "id": "df985270-c0c6-4e4e-9740-2363763d0bd0",
   "metadata": {},
   "outputs": [],
   "source": []
  }
 ],
 "metadata": {
  "kernelspec": {
   "display_name": "Python 3 (ipykernel)",
   "language": "python",
   "name": "python3"
  },
  "language_info": {
   "codemirror_mode": {
    "name": "ipython",
    "version": 3
   },
   "file_extension": ".py",
   "mimetype": "text/x-python",
   "name": "python",
   "nbconvert_exporter": "python",
   "pygments_lexer": "ipython3",
   "version": "3.11.10"
  }
 },
 "nbformat": 4,
 "nbformat_minor": 5
}
